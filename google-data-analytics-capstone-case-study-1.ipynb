{
 "cells": [
  {
   "attachments": {},
   "cell_type": "markdown",
   "id": "e680cc94",
   "metadata": {
    "execution": {
     "iopub.execute_input": "2021-06-04T12:23:13.883177Z",
     "iopub.status.busy": "2021-06-04T12:23:13.881070Z",
     "iopub.status.idle": "2021-06-04T12:23:13.895736Z"
    },
    "papermill": {
     "duration": 0.056036,
     "end_time": "2021-06-04T13:04:30.910208",
     "exception": false,
     "start_time": "2021-06-04T13:04:30.854172",
     "status": "completed"
    },
    "tags": []
   },
   "source": [
    "# Table of Contents\n",
    "\n",
    "* [Introduction](#Introduction)\n",
    "* [Ask](#ask)\n",
    "    * [Guiding questions](#ask-guiding)\n",
    "    * [Key tasks](#ask-key)\n",
    "    * [Deliverable](#ask-deliverable)\n",
    "* [Prepare](#prepare)\n",
    "    * [Guiding questions](#prepare-guiding)\n",
    "    * [Key tasks](#prepare-key)\n",
    "    * [Deliverable](#prepare-deliverable)\n",
    "* [Process](#process)\n",
    "    * [Code](#process-code)\n",
    "        * [Dependences](#process-code-dependences)\n",
    "        * [Concatenating](#process-code-concatenating)\n",
    "        * [Data cleaning](#process-code-data)\n",
    "        * [Manipulating the data](#process-code-manipulating)\n",
    "        * [Saving the result as a CSV](#process-code-saving)\n",
    "    * [Guiding questions](#process-guiding)\n",
    "    * [Key tasks](#process-key)\n",
    "    * [Deliverable](#process-deliverable)\n",
    "* [Analyze](#analyze)\n",
    "    * [Code](#analyze-code)\n",
    "        * [Data distribution](#analyze-code-data)\n",
    "        * [Other variables](#analyze-code-other)\n",
    "    * [Guiding questions](#analyze-guiding)\n",
    "    * [Key tasks](#analyze-key)\n",
    "    * [Deliverable](#analyze-deliverable)\n",
    "* [Share](#share)\n",
    "    * [Guiding questions](#share-guiding)\n",
    "    * [Key tasks](#share-key)\n",
    "    * [Deliverable](#share-deliverable)\n",
    "* [Act](#act)\n",
    "    * [Guiding questions](#act-guiding)\n",
    "    * [Key tasks](#act-key)\n",
    "    * [Deliverable](#act-deliverable)\n",
    "* [Conclusion](#conclusion)"
   ]
  },
  {
   "attachments": {},
   "cell_type": "markdown",
   "id": "d49072c1",
   "metadata": {
    "execution": {
     "iopub.execute_input": "2021-05-26T23:14:28.576133Z",
     "iopub.status.busy": "2021-05-26T23:14:28.574429Z",
     "iopub.status.idle": "2021-05-26T23:14:28.597461Z"
    },
    "papermill": {
     "duration": 0.059415,
     "end_time": "2021-06-04T13:04:31.024054",
     "exception": false,
     "start_time": "2021-06-04T13:04:30.964639",
     "status": "completed"
    },
    "tags": []
   },
   "source": [
    "<a id=\"Introduction\"></a>\n",
    "# Introduction\n",
    "\n",
    "This is my version of the Google Data Analytics Capstone - Case Study 1. The full document to the case study can be found in the [Google Data Analytics Capstone: Complete a Case Study](https://www.coursera.org/learn/google-data-analytics-capstone) course.\n",
    "\n",
    "For this project this steps will be followed to ensure its completion:\n",
    "* It will follow the steps of the data analysis process: Ask, prepare, process, analyze, share, and act.\n",
    "* Each step will follow its own roadmap with:\n",
    "    * Code, if needed on the step.\n",
    "    * Guiding questions, with answers.\n",
    "    * Key tasks, as a checklist.\n",
    "    * Deliverable, as a checklist.\n"
   ]
  },
  {
   "attachments": {},
   "cell_type": "markdown",
   "id": "5c903d44",
   "metadata": {
    "papermill": {
     "duration": 0.055279,
     "end_time": "2021-06-04T13:04:31.135358",
     "exception": false,
     "start_time": "2021-06-04T13:04:31.080079",
     "status": "completed"
    },
    "tags": []
   },
   "source": [
    "<a id=\"ask\"></a>\n",
    "# Ask\n",
    "\n",
    "For the ask step, first let's get some context from the cyclistic document:\n",
    "\n",
    "    Scenario\n",
    "    \n",
    "    You are a junior data analyst working in the marketing analyst team at Cyclistic, a bike-share company in Chicago. The director of marketing believes the company’s future success depends on maximizing the number of annual memberships. Therefore, your team wants to understand how casual riders and annual members use Cyclistic bikes dierently. From these insights, your team will design a new marketing strategy to convert casual riders into annual members. But first, Cyclistic executives must approve your recommendations, so they must be backed up with compelling data insights and professional data visualizations.\n",
    "    \n",
    "    Characters and teams\n",
    "    Cyclistic: A bike-share program that features more than 5,800 bicycles and 600 docking stations. Cyclistic sets itself apart by also oering reclining bikes, hand tricycles, and cargo bikes, making bike-share more inclusive to people with disabilities and riders who can’t use a standard two-wheeled bike. The majority of riders opt for traditional bikes; about 8% of riders use the assistive options. Cyclistic users are more likely to ride for leisure, but about 30% use them to commute to work each day.\n",
    "    Lily Moreno: The director of marketing and your manager. Moreno is responsible for the development of campaigns and initiatives to promote the bike-share program. These may include email, social media, and other channels.\n",
    "    Cyclistic marketing analytics team: A team of data analysts who are responsible for collecting, analyzing, and reporting data that helps guide Cyclistic marketing strategy. You joined this team six months ago and have been busy learning about Cyclistic’s mission and business goals — as well as how you, as a junior data analyst, can help Cyclistic achieve them.\n",
    "    Cyclistic executive team: The notoriously detail-oriented executive team will decide whether to approve the recommended marketing program.\n",
    "    \n"
   ]
  },
  {
   "attachments": {},
   "cell_type": "markdown",
   "id": "dbabf726",
   "metadata": {
    "execution": {
     "iopub.execute_input": "2021-05-26T23:38:29.175737Z",
     "iopub.status.busy": "2021-05-26T23:38:29.173599Z",
     "iopub.status.idle": "2021-05-26T23:38:29.192519Z"
    },
    "papermill": {
     "duration": 0.053775,
     "end_time": "2021-06-04T13:04:31.244096",
     "exception": false,
     "start_time": "2021-06-04T13:04:31.190321",
     "status": "completed"
    },
    "tags": []
   },
   "source": [
    "<a id=\"ask-guiding\"></a>\n",
    "## Guiding questions\n",
    "\n",
    "* **What is the problem you are trying to solve?**\n",
    "\n",
    "The main objective is to determine a way to build a profile for annual members and the best marketing strategies to turn casual bike riders into annual members.\n",
    "    \n",
    "* **How can your insights drive business decisions?**\n",
    "\n",
    "The insights will help the marketing team to increase annual members.\n",
    "    "
   ]
  },
  {
   "attachments": {},
   "cell_type": "markdown",
   "id": "35688f78",
   "metadata": {
    "execution": {
     "iopub.execute_input": "2021-05-26T23:44:00.685499Z",
     "iopub.status.busy": "2021-05-26T23:44:00.68334Z",
     "iopub.status.idle": "2021-05-26T23:44:00.735538Z"
    },
    "papermill": {
     "duration": 0.054743,
     "end_time": "2021-06-04T13:04:31.354056",
     "exception": false,
     "start_time": "2021-06-04T13:04:31.299313",
     "status": "completed"
    },
    "tags": []
   },
   "source": [
    "<a id=\"ask-key\"></a>\n",
    "## Key tasks\n",
    "\n",
    "- [x] Identify the business task\n",
    "- [x] Consider key stakeholders"
   ]
  },
  {
   "attachments": {},
   "cell_type": "markdown",
   "id": "233c153d",
   "metadata": {
    "execution": {
     "iopub.execute_input": "2021-05-26T23:46:04.486724Z",
     "iopub.status.busy": "2021-05-26T23:46:04.484497Z",
     "iopub.status.idle": "2021-05-26T23:46:04.609649Z"
    },
    "papermill": {
     "duration": 0.053994,
     "end_time": "2021-06-04T13:04:31.461712",
     "exception": false,
     "start_time": "2021-06-04T13:04:31.407718",
     "status": "completed"
    },
    "tags": []
   },
   "source": [
    "<a id=\"ask-deliverable\"></a>\n",
    "## Deliverable\n",
    "\n",
    "- [x] A clear statement of the business task\n",
    "    \n",
    "    Find the keys differences between casual and members riders and how digital midia could influence them"
   ]
  },
  {
   "attachments": {},
   "cell_type": "markdown",
   "id": "0ad08e2d",
   "metadata": {
    "execution": {
     "iopub.execute_input": "2021-05-26T23:47:08.666215Z",
     "iopub.status.busy": "2021-05-26T23:47:08.664228Z",
     "iopub.status.idle": "2021-05-26T23:47:08.685207Z"
    },
    "papermill": {
     "duration": 0.054375,
     "end_time": "2021-06-04T13:04:31.570609",
     "exception": false,
     "start_time": "2021-06-04T13:04:31.516234",
     "status": "completed"
    },
    "tags": []
   },
   "source": [
    "<a id=\"prepare\"></a>\n",
    "# Prepare\n",
    "\n",
    "The project will use the data provided by [this kaggle dataset](https://www.kaggle.com/timgid/cyclistic-dataset-google-certificate-capstone). But Google also provided their [own link](https://divvy-tripdata.s3.amazonaws.com/index.html) with the same dataset but expanded with more years and station descriptions.\n"
   ]
  },
  {
   "attachments": {},
   "cell_type": "markdown",
   "id": "40efeffc",
   "metadata": {
    "papermill": {
     "duration": 0.056267,
     "end_time": "2021-06-04T13:04:31.682229",
     "exception": false,
     "start_time": "2021-06-04T13:04:31.625962",
     "status": "completed"
    },
    "tags": []
   },
   "source": [
    "<a id=\"prepare-guiding\"></a>\n",
    "## Guiding questions\n",
    "\n",
    "* **Where is your data located?**\n",
    "\n",
    "The data is located in a kaggle dataset.\n",
    "\n",
    "* **How is the data organized?**\n",
    "\n",
    "The data is separated by month, each on it's own csv.\n",
    "\n",
    "* **Are there issues with bias or credibility in this data? Does your data ROCCC?**\n",
    "\n",
    "Bias isn't a problem, the population of the dataset is it's own clients as bike riders. And have full credibility for the same reason. And finally, it's ROCCC because it's reliable, original, comprehensive, current and cited.\n",
    "\n",
    "* **How are you addressing licensing, privacy, security, and accessibility?**\n",
    "\n",
    "The company has  their own licence over the dataset. Besides that, the dataset doesn't have any personal information about the riders.\n",
    "\n",
    "* **How did you verify the data’s integrity?**\n",
    "\n",
    "All the files have consistent columns and each column has the correct type of data.\n",
    "\n",
    "* **How does it help you answer your question?**\n",
    "\n",
    "It may have some key insights about the riders and their riding style\n",
    "\n",
    "* **Are there any problems with the data?**\n",
    "\n",
    "It would be good to have some updated information about the bike stations. Also more information about the riders could be useful."
   ]
  },
  {
   "attachments": {},
   "cell_type": "markdown",
   "id": "30aaa32b",
   "metadata": {
    "execution": {
     "iopub.execute_input": "2021-05-27T00:07:35.89933Z",
     "iopub.status.busy": "2021-05-27T00:07:35.893873Z",
     "iopub.status.idle": "2021-05-27T00:07:35.940877Z"
    },
    "papermill": {
     "duration": 0.05463,
     "end_time": "2021-06-04T13:04:31.791403",
     "exception": false,
     "start_time": "2021-06-04T13:04:31.736773",
     "status": "completed"
    },
    "tags": []
   },
   "source": [
    " <a id=\"prepare-key\"></a>\n",
    " ## Key tasks\n",
    "\n",
    "- [x] Download data and store it appropriately.\n",
    "- [x] Identify how it’s organized.\n",
    "- [x] Sort and filter the data.\n",
    "- [x] Determine the credibility of the data."
   ]
  },
  {
   "attachments": {},
   "cell_type": "markdown",
   "id": "76053767",
   "metadata": {
    "papermill": {
     "duration": 0.053948,
     "end_time": "2021-06-04T13:04:31.899230",
     "exception": false,
     "start_time": "2021-06-04T13:04:31.845282",
     "status": "completed"
    },
    "tags": []
   },
   "source": [
    "<a id=\"prepare-deliverable\"></a>\n",
    "## Deliverable\n",
    "\n",
    "- [x] A description of all data sources used\n",
    "\n",
    "The main data source is 12 months (Between april 2020 and march 2021) of riding data provided by the Cicylistic company."
   ]
  },
  {
   "attachments": {},
   "cell_type": "markdown",
   "id": "1a7043ec",
   "metadata": {
    "execution": {
     "iopub.execute_input": "2021-05-27T00:11:00.234224Z",
     "iopub.status.busy": "2021-05-27T00:11:00.228627Z",
     "iopub.status.idle": "2021-05-27T00:11:00.271782Z"
    },
    "papermill": {
     "duration": 0.054064,
     "end_time": "2021-06-04T13:04:32.008033",
     "exception": false,
     "start_time": "2021-06-04T13:04:31.953969",
     "status": "completed"
    },
    "tags": []
   },
   "source": [
    "<a id=\"process\"></a>\n",
    "# Process\n",
    "\n",
    "This step will prepare the data for analysis. All the csv files will be merged into one file to improve workflow"
   ]
  },
  {
   "attachments": {},
   "cell_type": "markdown",
   "id": "798a32c1",
   "metadata": {
    "papermill": {
     "duration": 0.059498,
     "end_time": "2021-06-04T13:04:32.122193",
     "exception": false,
     "start_time": "2021-06-04T13:04:32.062695",
     "status": "completed"
    },
    "tags": []
   },
   "source": [
    "<a id=\"process-code\"></a>\n",
    "## Code"
   ]
  },
  {
   "attachments": {},
   "cell_type": "markdown",
   "id": "432a862b",
   "metadata": {
    "papermill": {
     "duration": 0.054683,
     "end_time": "2021-06-04T13:04:32.231572",
     "exception": false,
     "start_time": "2021-06-04T13:04:32.176889",
     "status": "completed"
    },
    "tags": []
   },
   "source": [
    "<a id=\"process-code-dependences\"></a>\n",
    "### Dependences\n",
    "\n",
    "The main dependencie for the project will be tidyverse."
   ]
  },
  {
   "cell_type": "code",
   "execution_count": 1,
   "id": "cfa69b31",
   "metadata": {
    "execution": {
     "iopub.execute_input": "2021-06-04T13:04:32.346706Z",
     "iopub.status.busy": "2021-06-04T13:04:32.343834Z",
     "iopub.status.idle": "2021-06-04T13:04:34.043292Z",
     "shell.execute_reply": "2021-06-04T13:04:34.041494Z"
    },
    "papermill": {
     "duration": 1.758646,
     "end_time": "2021-06-04T13:04:34.043852",
     "exception": false,
     "start_time": "2021-06-04T13:04:32.285206",
     "status": "completed"
    },
    "tags": [],
    "vscode": {
     "languageId": "r"
    }
   },
   "outputs": [
    {
     "name": "stderr",
     "output_type": "stream",
     "text": [
      "── \u001b[1mAttaching packages\u001b[22m ─────────────────────────────────────── tidyverse 1.3.0 ──\n",
      "\n",
      "\u001b[32m✔\u001b[39m \u001b[34mggplot2\u001b[39m 3.3.3     \u001b[32m✔\u001b[39m \u001b[34mpurrr  \u001b[39m 0.3.4\n",
      "\u001b[32m✔\u001b[39m \u001b[34mtibble \u001b[39m 3.1.1     \u001b[32m✔\u001b[39m \u001b[34mdplyr  \u001b[39m 1.0.5\n",
      "\u001b[32m✔\u001b[39m \u001b[34mtidyr  \u001b[39m 1.1.3     \u001b[32m✔\u001b[39m \u001b[34mstringr\u001b[39m 1.4.0\n",
      "\u001b[32m✔\u001b[39m \u001b[34mreadr  \u001b[39m 1.4.0     \u001b[32m✔\u001b[39m \u001b[34mforcats\u001b[39m 0.5.0\n",
      "\n",
      "── \u001b[1mConflicts\u001b[22m ────────────────────────────────────────── tidyverse_conflicts() ──\n",
      "\u001b[31m✖\u001b[39m \u001b[34mdplyr\u001b[39m::\u001b[32mfilter()\u001b[39m masks \u001b[34mstats\u001b[39m::filter()\n",
      "\u001b[31m✖\u001b[39m \u001b[34mdplyr\u001b[39m::\u001b[32mlag()\u001b[39m    masks \u001b[34mstats\u001b[39m::lag()\n",
      "\n"
     ]
    }
   ],
   "source": [
    "library(tidyverse)"
   ]
  },
  {
   "attachments": {},
   "cell_type": "markdown",
   "id": "dde99db0",
   "metadata": {
    "execution": {
     "iopub.execute_input": "2021-05-27T00:22:41.730232Z",
     "iopub.status.busy": "2021-05-27T00:22:41.726599Z",
     "iopub.status.idle": "2021-05-27T00:22:41.75442Z"
    },
    "papermill": {
     "duration": 0.056619,
     "end_time": "2021-06-04T13:04:34.157265",
     "exception": false,
     "start_time": "2021-06-04T13:04:34.100646",
     "status": "completed"
    },
    "tags": []
   },
   "source": [
    "<a id=\"process-code-concatenating\"></a>\n",
    "### Concatenating\n",
    "All the csvs files will be concatenated into one dataframe."
   ]
  },
  {
   "cell_type": "code",
   "execution_count": 2,
   "id": "fb9df178",
   "metadata": {
    "execution": {
     "iopub.execute_input": "2021-06-04T13:04:34.318793Z",
     "iopub.status.busy": "2021-06-04T13:04:34.274824Z",
     "iopub.status.idle": "2021-06-04T13:09:47.570711Z",
     "shell.execute_reply": "2021-06-04T13:09:47.569036Z"
    },
    "papermill": {
     "duration": 313.357157,
     "end_time": "2021-06-04T13:09:47.570972",
     "exception": false,
     "start_time": "2021-06-04T13:04:34.213815",
     "status": "completed"
    },
    "tags": [],
    "vscode": {
     "languageId": "r"
    }
   },
   "outputs": [],
   "source": [
    "csv_files <- list.files(path = \"../input\", recursive = TRUE, full.names=TRUE)\n",
    "\n",
    "cyclistic_merged <- do.call(rbind, lapply(csv_files, read.csv))"
   ]
  },
  {
   "cell_type": "code",
   "execution_count": 3,
   "id": "3d36c9e8",
   "metadata": {
    "execution": {
     "iopub.execute_input": "2021-06-04T13:09:47.703148Z",
     "iopub.status.busy": "2021-06-04T13:09:47.701448Z",
     "iopub.status.idle": "2021-06-04T13:09:47.743262Z",
     "shell.execute_reply": "2021-06-04T13:09:47.741327Z"
    },
    "papermill": {
     "duration": 0.106042,
     "end_time": "2021-06-04T13:09:47.743469",
     "exception": false,
     "start_time": "2021-06-04T13:09:47.637427",
     "status": "completed"
    },
    "tags": [],
    "vscode": {
     "languageId": "r"
    }
   },
   "outputs": [
    {
     "data": {
      "text/html": [
       "<table class=\"dataframe\">\n",
       "<caption>A data.frame: 6 × 13</caption>\n",
       "<thead>\n",
       "\t<tr><th></th><th scope=col>ride_id</th><th scope=col>rideable_type</th><th scope=col>started_at</th><th scope=col>ended_at</th><th scope=col>start_station_name</th><th scope=col>start_station_id</th><th scope=col>end_station_name</th><th scope=col>end_station_id</th><th scope=col>start_lat</th><th scope=col>start_lng</th><th scope=col>end_lat</th><th scope=col>end_lng</th><th scope=col>member_casual</th></tr>\n",
       "\t<tr><th></th><th scope=col>&lt;fct&gt;</th><th scope=col>&lt;fct&gt;</th><th scope=col>&lt;fct&gt;</th><th scope=col>&lt;fct&gt;</th><th scope=col>&lt;fct&gt;</th><th scope=col>&lt;chr&gt;</th><th scope=col>&lt;fct&gt;</th><th scope=col>&lt;chr&gt;</th><th scope=col>&lt;dbl&gt;</th><th scope=col>&lt;dbl&gt;</th><th scope=col>&lt;dbl&gt;</th><th scope=col>&lt;dbl&gt;</th><th scope=col>&lt;fct&gt;</th></tr>\n",
       "</thead>\n",
       "<tbody>\n",
       "\t<tr><th scope=row>1</th><td>A847FADBBC638E45</td><td>docked_bike</td><td>2020-04-26 17:45:14</td><td>2020-04-26 18:12:03</td><td><span style=white-space:pre-wrap>Eckhart Park                       </span></td><td>86 </td><td>Lincoln Ave &amp; Diversey Pkwy</td><td>152</td><td>41.8964</td><td>-87.6610</td><td>41.9322</td><td>-87.6586</td><td>member</td></tr>\n",
       "\t<tr><th scope=row>2</th><td>5405B80E996FF60D</td><td>docked_bike</td><td>2020-04-17 17:08:54</td><td>2020-04-17 17:17:03</td><td><span style=white-space:pre-wrap>Drake Ave &amp; Fullerton Ave          </span></td><td>503</td><td><span style=white-space:pre-wrap>Kosciuszko Park            </span></td><td>499</td><td>41.9244</td><td>-87.7154</td><td>41.9306</td><td>-87.7238</td><td>member</td></tr>\n",
       "\t<tr><th scope=row>3</th><td>5DD24A79A4E006F4</td><td>docked_bike</td><td>2020-04-01 17:54:13</td><td>2020-04-01 18:08:36</td><td><span style=white-space:pre-wrap>McClurg Ct &amp; Erie St               </span></td><td>142</td><td>Indiana Ave &amp; Roosevelt Rd </td><td>255</td><td>41.8945</td><td>-87.6179</td><td>41.8679</td><td>-87.6230</td><td>member</td></tr>\n",
       "\t<tr><th scope=row>4</th><td>2A59BBDF5CDBA725</td><td>docked_bike</td><td>2020-04-07 12:50:19</td><td>2020-04-07 13:02:31</td><td><span style=white-space:pre-wrap>California Ave &amp; Division St       </span></td><td>216</td><td><span style=white-space:pre-wrap>Wood St &amp; Augusta Blvd     </span></td><td>657</td><td>41.9030</td><td>-87.6975</td><td>41.8992</td><td>-87.6722</td><td>member</td></tr>\n",
       "\t<tr><th scope=row>5</th><td>27AD306C119C6158</td><td>docked_bike</td><td>2020-04-18 10:22:59</td><td>2020-04-18 11:15:54</td><td><span style=white-space:pre-wrap>Rush St &amp; Hubbard St               </span></td><td>125</td><td>Sheridan Rd &amp; Lawrence Ave </td><td>323</td><td>41.8902</td><td>-87.6262</td><td>41.9695</td><td>-87.6547</td><td>casual</td></tr>\n",
       "\t<tr><th scope=row>6</th><td>356216E875132F61</td><td>docked_bike</td><td>2020-04-30 17:55:47</td><td>2020-04-30 18:01:11</td><td>Mies van der Rohe Way &amp; Chicago Ave</td><td>173</td><td><span style=white-space:pre-wrap>Streeter Dr &amp; Grand Ave    </span></td><td>35 </td><td>41.8969</td><td>-87.6217</td><td>41.8923</td><td>-87.6120</td><td>member</td></tr>\n",
       "</tbody>\n",
       "</table>\n"
      ],
      "text/latex": [
       "A data.frame: 6 × 13\n",
       "\\begin{tabular}{r|lllllllllllll}\n",
       "  & ride\\_id & rideable\\_type & started\\_at & ended\\_at & start\\_station\\_name & start\\_station\\_id & end\\_station\\_name & end\\_station\\_id & start\\_lat & start\\_lng & end\\_lat & end\\_lng & member\\_casual\\\\\n",
       "  & <fct> & <fct> & <fct> & <fct> & <fct> & <chr> & <fct> & <chr> & <dbl> & <dbl> & <dbl> & <dbl> & <fct>\\\\\n",
       "\\hline\n",
       "\t1 & A847FADBBC638E45 & docked\\_bike & 2020-04-26 17:45:14 & 2020-04-26 18:12:03 & Eckhart Park                        & 86  & Lincoln Ave \\& Diversey Pkwy & 152 & 41.8964 & -87.6610 & 41.9322 & -87.6586 & member\\\\\n",
       "\t2 & 5405B80E996FF60D & docked\\_bike & 2020-04-17 17:08:54 & 2020-04-17 17:17:03 & Drake Ave \\& Fullerton Ave           & 503 & Kosciuszko Park             & 499 & 41.9244 & -87.7154 & 41.9306 & -87.7238 & member\\\\\n",
       "\t3 & 5DD24A79A4E006F4 & docked\\_bike & 2020-04-01 17:54:13 & 2020-04-01 18:08:36 & McClurg Ct \\& Erie St                & 142 & Indiana Ave \\& Roosevelt Rd  & 255 & 41.8945 & -87.6179 & 41.8679 & -87.6230 & member\\\\\n",
       "\t4 & 2A59BBDF5CDBA725 & docked\\_bike & 2020-04-07 12:50:19 & 2020-04-07 13:02:31 & California Ave \\& Division St        & 216 & Wood St \\& Augusta Blvd      & 657 & 41.9030 & -87.6975 & 41.8992 & -87.6722 & member\\\\\n",
       "\t5 & 27AD306C119C6158 & docked\\_bike & 2020-04-18 10:22:59 & 2020-04-18 11:15:54 & Rush St \\& Hubbard St                & 125 & Sheridan Rd \\& Lawrence Ave  & 323 & 41.8902 & -87.6262 & 41.9695 & -87.6547 & casual\\\\\n",
       "\t6 & 356216E875132F61 & docked\\_bike & 2020-04-30 17:55:47 & 2020-04-30 18:01:11 & Mies van der Rohe Way \\& Chicago Ave & 173 & Streeter Dr \\& Grand Ave     & 35  & 41.8969 & -87.6217 & 41.8923 & -87.6120 & member\\\\\n",
       "\\end{tabular}\n"
      ],
      "text/markdown": [
       "\n",
       "A data.frame: 6 × 13\n",
       "\n",
       "| <!--/--> | ride_id &lt;fct&gt; | rideable_type &lt;fct&gt; | started_at &lt;fct&gt; | ended_at &lt;fct&gt; | start_station_name &lt;fct&gt; | start_station_id &lt;chr&gt; | end_station_name &lt;fct&gt; | end_station_id &lt;chr&gt; | start_lat &lt;dbl&gt; | start_lng &lt;dbl&gt; | end_lat &lt;dbl&gt; | end_lng &lt;dbl&gt; | member_casual &lt;fct&gt; |\n",
       "|---|---|---|---|---|---|---|---|---|---|---|---|---|---|\n",
       "| 1 | A847FADBBC638E45 | docked_bike | 2020-04-26 17:45:14 | 2020-04-26 18:12:03 | Eckhart Park                        | 86  | Lincoln Ave &amp; Diversey Pkwy | 152 | 41.8964 | -87.6610 | 41.9322 | -87.6586 | member |\n",
       "| 2 | 5405B80E996FF60D | docked_bike | 2020-04-17 17:08:54 | 2020-04-17 17:17:03 | Drake Ave &amp; Fullerton Ave           | 503 | Kosciuszko Park             | 499 | 41.9244 | -87.7154 | 41.9306 | -87.7238 | member |\n",
       "| 3 | 5DD24A79A4E006F4 | docked_bike | 2020-04-01 17:54:13 | 2020-04-01 18:08:36 | McClurg Ct &amp; Erie St                | 142 | Indiana Ave &amp; Roosevelt Rd  | 255 | 41.8945 | -87.6179 | 41.8679 | -87.6230 | member |\n",
       "| 4 | 2A59BBDF5CDBA725 | docked_bike | 2020-04-07 12:50:19 | 2020-04-07 13:02:31 | California Ave &amp; Division St        | 216 | Wood St &amp; Augusta Blvd      | 657 | 41.9030 | -87.6975 | 41.8992 | -87.6722 | member |\n",
       "| 5 | 27AD306C119C6158 | docked_bike | 2020-04-18 10:22:59 | 2020-04-18 11:15:54 | Rush St &amp; Hubbard St                | 125 | Sheridan Rd &amp; Lawrence Ave  | 323 | 41.8902 | -87.6262 | 41.9695 | -87.6547 | casual |\n",
       "| 6 | 356216E875132F61 | docked_bike | 2020-04-30 17:55:47 | 2020-04-30 18:01:11 | Mies van der Rohe Way &amp; Chicago Ave | 173 | Streeter Dr &amp; Grand Ave     | 35  | 41.8969 | -87.6217 | 41.8923 | -87.6120 | member |\n",
       "\n"
      ],
      "text/plain": [
       "  ride_id          rideable_type started_at          ended_at           \n",
       "1 A847FADBBC638E45 docked_bike   2020-04-26 17:45:14 2020-04-26 18:12:03\n",
       "2 5405B80E996FF60D docked_bike   2020-04-17 17:08:54 2020-04-17 17:17:03\n",
       "3 5DD24A79A4E006F4 docked_bike   2020-04-01 17:54:13 2020-04-01 18:08:36\n",
       "4 2A59BBDF5CDBA725 docked_bike   2020-04-07 12:50:19 2020-04-07 13:02:31\n",
       "5 27AD306C119C6158 docked_bike   2020-04-18 10:22:59 2020-04-18 11:15:54\n",
       "6 356216E875132F61 docked_bike   2020-04-30 17:55:47 2020-04-30 18:01:11\n",
       "  start_station_name                  start_station_id\n",
       "1 Eckhart Park                        86              \n",
       "2 Drake Ave & Fullerton Ave           503             \n",
       "3 McClurg Ct & Erie St                142             \n",
       "4 California Ave & Division St        216             \n",
       "5 Rush St & Hubbard St                125             \n",
       "6 Mies van der Rohe Way & Chicago Ave 173             \n",
       "  end_station_name            end_station_id start_lat start_lng end_lat\n",
       "1 Lincoln Ave & Diversey Pkwy 152            41.8964   -87.6610  41.9322\n",
       "2 Kosciuszko Park             499            41.9244   -87.7154  41.9306\n",
       "3 Indiana Ave & Roosevelt Rd  255            41.8945   -87.6179  41.8679\n",
       "4 Wood St & Augusta Blvd      657            41.9030   -87.6975  41.8992\n",
       "5 Sheridan Rd & Lawrence Ave  323            41.8902   -87.6262  41.9695\n",
       "6 Streeter Dr & Grand Ave     35             41.8969   -87.6217  41.8923\n",
       "  end_lng  member_casual\n",
       "1 -87.6586 member       \n",
       "2 -87.7238 member       \n",
       "3 -87.6230 member       \n",
       "4 -87.6722 member       \n",
       "5 -87.6547 casual       \n",
       "6 -87.6120 member       "
      ]
     },
     "metadata": {},
     "output_type": "display_data"
    }
   ],
   "source": [
    "head(cyclistic_merged)"
   ]
  },
  {
   "attachments": {},
   "cell_type": "markdown",
   "id": "36cd897c",
   "metadata": {
    "papermill": {
     "duration": 0.058439,
     "end_time": "2021-06-04T13:09:47.861959",
     "exception": false,
     "start_time": "2021-06-04T13:09:47.803520",
     "status": "completed"
    },
    "tags": []
   },
   "source": [
    "<a id=\"process-code-data\"></a>\n",
    "### Data cleaning"
   ]
  },
  {
   "attachments": {},
   "cell_type": "markdown",
   "id": "622f3d1d",
   "metadata": {
    "papermill": {
     "duration": 0.058133,
     "end_time": "2021-06-04T13:09:47.980588",
     "exception": false,
     "start_time": "2021-06-04T13:09:47.922455",
     "status": "completed"
    },
    "tags": []
   },
   "source": [
    "<a id=\"process-code-data-removing\"></a>\n",
    "#### Removing Duplicates"
   ]
  },
  {
   "cell_type": "code",
   "execution_count": 4,
   "id": "ad211df7",
   "metadata": {
    "execution": {
     "iopub.execute_input": "2021-06-04T13:09:48.104995Z",
     "iopub.status.busy": "2021-06-04T13:09:48.103350Z",
     "iopub.status.idle": "2021-06-04T13:09:49.994761Z",
     "shell.execute_reply": "2021-06-04T13:09:49.993138Z"
    },
    "papermill": {
     "duration": 1.955577,
     "end_time": "2021-06-04T13:09:49.995041",
     "exception": false,
     "start_time": "2021-06-04T13:09:48.039464",
     "status": "completed"
    },
    "tags": [],
    "vscode": {
     "languageId": "r"
    }
   },
   "outputs": [
    {
     "name": "stdout",
     "output_type": "stream",
     "text": [
      "[1] \"Removed 209 duplicated rows\"\n"
     ]
    }
   ],
   "source": [
    "cyclistic_no_dups <- cyclistic_merged[!duplicated(cyclistic_merged$ride_id), ]\n",
    "print(paste(\"Removed\", nrow(cyclistic_merged) - nrow(cyclistic_no_dups), \"duplicated rows\"))"
   ]
  },
  {
   "attachments": {},
   "cell_type": "markdown",
   "id": "f341b27b",
   "metadata": {
    "execution": {
     "iopub.execute_input": "2021-05-27T02:27:48.702722Z",
     "iopub.status.busy": "2021-05-27T02:27:48.700731Z",
     "iopub.status.idle": "2021-05-27T02:27:48.715003Z"
    },
    "papermill": {
     "duration": 0.056627,
     "end_time": "2021-06-04T13:09:50.110421",
     "exception": false,
     "start_time": "2021-06-04T13:09:50.053794",
     "status": "completed"
    },
    "tags": []
   },
   "source": [
    "<a id=\"process-code-data-parsing\"></a>\n",
    "#### Parsing datetime columns"
   ]
  },
  {
   "cell_type": "code",
   "execution_count": 5,
   "id": "c997a310",
   "metadata": {
    "execution": {
     "iopub.execute_input": "2021-06-04T13:09:50.232630Z",
     "iopub.status.busy": "2021-06-04T13:09:50.230691Z",
     "iopub.status.idle": "2021-06-04T13:10:27.241405Z",
     "shell.execute_reply": "2021-06-04T13:10:27.240005Z"
    },
    "papermill": {
     "duration": 37.07351,
     "end_time": "2021-06-04T13:10:27.241639",
     "exception": false,
     "start_time": "2021-06-04T13:09:50.168129",
     "status": "completed"
    },
    "tags": [],
    "vscode": {
     "languageId": "r"
    }
   },
   "outputs": [],
   "source": [
    "cyclistic_no_dups$started_at <- as.POSIXct(cyclistic_no_dups$started_at, \"%Y-%m-%d %H:%M:%S\")\n",
    "cyclistic_no_dups$ended_at <- as.POSIXct(cyclistic_no_dups$ended_at, \"%Y-%m-%d %H:%M:%S\")"
   ]
  },
  {
   "attachments": {},
   "cell_type": "markdown",
   "id": "d4e3c4da",
   "metadata": {
    "papermill": {
     "duration": 0.058239,
     "end_time": "2021-06-04T13:10:27.357533",
     "exception": false,
     "start_time": "2021-06-04T13:10:27.299294",
     "status": "completed"
    },
    "tags": []
   },
   "source": [
    "<a id=\"process-code-manipulating\"></a>\n",
    "### Manipulating the data\n",
    "New columns will help improve calculation time in the future"
   ]
  },
  {
   "attachments": {},
   "cell_type": "markdown",
   "id": "46c7ab8b",
   "metadata": {
    "papermill": {
     "duration": 0.056707,
     "end_time": "2021-06-04T13:10:27.471320",
     "exception": false,
     "start_time": "2021-06-04T13:10:27.414613",
     "status": "completed"
    },
    "tags": []
   },
   "source": [
    "<a id=\"process-code-manipulating-riding\"></a>\n",
    "#### ride_time_m\n",
    "Represents the total time of a bike ride, in minutes"
   ]
  },
  {
   "cell_type": "code",
   "execution_count": 6,
   "id": "73776178",
   "metadata": {
    "execution": {
     "iopub.execute_input": "2021-06-04T13:10:27.590972Z",
     "iopub.status.busy": "2021-06-04T13:10:27.589789Z",
     "iopub.status.idle": "2021-06-04T13:10:27.919963Z",
     "shell.execute_reply": "2021-06-04T13:10:27.918550Z"
    },
    "papermill": {
     "duration": 0.39197,
     "end_time": "2021-06-04T13:10:27.920157",
     "exception": false,
     "start_time": "2021-06-04T13:10:27.528187",
     "status": "completed"
    },
    "tags": [],
    "vscode": {
     "languageId": "r"
    }
   },
   "outputs": [
    {
     "data": {
      "text/plain": [
       "     Min.   1st Qu.    Median      Mean   3rd Qu.      Max. \n",
       "-29049.97      7.88     14.52     26.48     26.63  58720.03 "
      ]
     },
     "metadata": {},
     "output_type": "display_data"
    }
   ],
   "source": [
    "cyclistic_no_dups <- cyclistic_no_dups %>%\n",
    "    mutate(ride_time_m = as.numeric(cyclistic_no_dups$ended_at - cyclistic_no_dups$started_at) / 60)\n",
    "summary(cyclistic_no_dups$ride_time_m)"
   ]
  },
  {
   "attachments": {},
   "cell_type": "markdown",
   "id": "84707336",
   "metadata": {
    "papermill": {
     "duration": 0.058514,
     "end_time": "2021-06-04T13:10:28.039625",
     "exception": false,
     "start_time": "2021-06-04T13:10:27.981111",
     "status": "completed"
    },
    "tags": []
   },
   "source": [
    "<a id=\"process-code-manipulating-year\"></a>\n",
    "#### year_month\n",
    "Separate the year and the month into one column"
   ]
  },
  {
   "cell_type": "code",
   "execution_count": 7,
   "id": "dd73b1b3",
   "metadata": {
    "execution": {
     "iopub.execute_input": "2021-06-04T13:10:28.208846Z",
     "iopub.status.busy": "2021-06-04T13:10:28.207474Z",
     "iopub.status.idle": "2021-06-04T13:10:45.338280Z",
     "shell.execute_reply": "2021-06-04T13:10:45.336372Z"
    },
    "papermill": {
     "duration": 17.19419,
     "end_time": "2021-06-04T13:10:45.338546",
     "exception": false,
     "start_time": "2021-06-04T13:10:28.144356",
     "status": "completed"
    },
    "tags": [],
    "vscode": {
     "languageId": "r"
    }
   },
   "outputs": [
    {
     "data": {
      "text/html": [
       "<style>\n",
       ".list-inline {list-style: none; margin:0; padding: 0}\n",
       ".list-inline>li {display: inline-block}\n",
       ".list-inline>li:not(:last-child)::after {content: \"\\00b7\"; padding: 0 .5ex}\n",
       "</style>\n",
       "<ol class=list-inline><li>'2020 - 04 (Apr)'</li><li>'2020 - 05 (May)'</li><li>'2020 - 06 (Jun)'</li><li>'2020 - 07 (Jul)'</li><li>'2020 - 08 (Aug)'</li><li>'2020 - 09 (Sep)'</li><li>'2020 - 10 (Oct)'</li><li>'2020 - 11 (Nov)'</li><li>'2020 - 12 (Dec)'</li><li>'2021 - 01 (Jan)'</li><li>'2021 - 02 (Feb)'</li><li>'2021 - 03 (Mar)'</li></ol>\n"
      ],
      "text/latex": [
       "\\begin{enumerate*}\n",
       "\\item '2020 - 04 (Apr)'\n",
       "\\item '2020 - 05 (May)'\n",
       "\\item '2020 - 06 (Jun)'\n",
       "\\item '2020 - 07 (Jul)'\n",
       "\\item '2020 - 08 (Aug)'\n",
       "\\item '2020 - 09 (Sep)'\n",
       "\\item '2020 - 10 (Oct)'\n",
       "\\item '2020 - 11 (Nov)'\n",
       "\\item '2020 - 12 (Dec)'\n",
       "\\item '2021 - 01 (Jan)'\n",
       "\\item '2021 - 02 (Feb)'\n",
       "\\item '2021 - 03 (Mar)'\n",
       "\\end{enumerate*}\n"
      ],
      "text/markdown": [
       "1. '2020 - 04 (Apr)'\n",
       "2. '2020 - 05 (May)'\n",
       "3. '2020 - 06 (Jun)'\n",
       "4. '2020 - 07 (Jul)'\n",
       "5. '2020 - 08 (Aug)'\n",
       "6. '2020 - 09 (Sep)'\n",
       "7. '2020 - 10 (Oct)'\n",
       "8. '2020 - 11 (Nov)'\n",
       "9. '2020 - 12 (Dec)'\n",
       "10. '2021 - 01 (Jan)'\n",
       "11. '2021 - 02 (Feb)'\n",
       "12. '2021 - 03 (Mar)'\n",
       "\n",
       "\n"
      ],
      "text/plain": [
       " [1] \"2020 - 04 (Apr)\" \"2020 - 05 (May)\" \"2020 - 06 (Jun)\" \"2020 - 07 (Jul)\"\n",
       " [5] \"2020 - 08 (Aug)\" \"2020 - 09 (Sep)\" \"2020 - 10 (Oct)\" \"2020 - 11 (Nov)\"\n",
       " [9] \"2020 - 12 (Dec)\" \"2021 - 01 (Jan)\" \"2021 - 02 (Feb)\" \"2021 - 03 (Mar)\""
      ]
     },
     "metadata": {},
     "output_type": "display_data"
    }
   ],
   "source": [
    "cyclistic_no_dups <- cyclistic_no_dups %>%\n",
    "    mutate(year_month = paste(strftime(cyclistic_no_dups$started_at, \"%Y\"),\n",
    "                              \"-\",\n",
    "                              strftime(cyclistic_no_dups$started_at, \"%m\"),\n",
    "                              paste(\"(\",strftime(cyclistic_no_dups$started_at, \"%b\"), \")\", sep=\"\")))\n",
    "unique(cyclistic_no_dups$year_month)"
   ]
  },
  {
   "attachments": {},
   "cell_type": "markdown",
   "id": "648c202d",
   "metadata": {
    "execution": {
     "iopub.execute_input": "2021-05-27T02:43:48.457093Z",
     "iopub.status.busy": "2021-05-27T02:43:48.455417Z",
     "iopub.status.idle": "2021-05-27T02:43:48.468852Z"
    },
    "papermill": {
     "duration": 0.058547,
     "end_time": "2021-06-04T13:10:45.455307",
     "exception": false,
     "start_time": "2021-06-04T13:10:45.396760",
     "status": "completed"
    },
    "tags": []
   },
   "source": [
    "<a id=\"process-code-manipulating-weekday\"></a>\n",
    "#### weekday\n",
    "The weekday will be useful to determine patterns of travels in the week"
   ]
  },
  {
   "cell_type": "code",
   "execution_count": 8,
   "id": "ade62be4",
   "metadata": {
    "execution": {
     "iopub.execute_input": "2021-06-04T13:10:45.580373Z",
     "iopub.status.busy": "2021-06-04T13:10:45.579265Z",
     "iopub.status.idle": "2021-06-04T13:10:53.946329Z",
     "shell.execute_reply": "2021-06-04T13:10:53.944797Z"
    },
    "papermill": {
     "duration": 8.432158,
     "end_time": "2021-06-04T13:10:53.946658",
     "exception": false,
     "start_time": "2021-06-04T13:10:45.514500",
     "status": "completed"
    },
    "tags": [],
    "vscode": {
     "languageId": "r"
    }
   },
   "outputs": [
    {
     "data": {
      "text/html": [
       "<style>\n",
       ".list-inline {list-style: none; margin:0; padding: 0}\n",
       ".list-inline>li {display: inline-block}\n",
       ".list-inline>li:not(:last-child)::after {content: \"\\00b7\"; padding: 0 .5ex}\n",
       "</style>\n",
       "<ol class=list-inline><li>'7 - Sun'</li><li>'5 - Fri'</li><li>'3 - Wed'</li><li>'2 - Tue'</li><li>'6 - Sat'</li><li>'4 - Thu'</li><li>'1 - Mon'</li></ol>\n"
      ],
      "text/latex": [
       "\\begin{enumerate*}\n",
       "\\item '7 - Sun'\n",
       "\\item '5 - Fri'\n",
       "\\item '3 - Wed'\n",
       "\\item '2 - Tue'\n",
       "\\item '6 - Sat'\n",
       "\\item '4 - Thu'\n",
       "\\item '1 - Mon'\n",
       "\\end{enumerate*}\n"
      ],
      "text/markdown": [
       "1. '7 - Sun'\n",
       "2. '5 - Fri'\n",
       "3. '3 - Wed'\n",
       "4. '2 - Tue'\n",
       "5. '6 - Sat'\n",
       "6. '4 - Thu'\n",
       "7. '1 - Mon'\n",
       "\n",
       "\n"
      ],
      "text/plain": [
       "[1] \"7 - Sun\" \"5 - Fri\" \"3 - Wed\" \"2 - Tue\" \"6 - Sat\" \"4 - Thu\" \"1 - Mon\""
      ]
     },
     "metadata": {},
     "output_type": "display_data"
    }
   ],
   "source": [
    "cyclistic_no_dups <- cyclistic_no_dups %>%\n",
    "    mutate(weekday = paste(strftime(cyclistic_no_dups$ended_at, \"%u\"), \"-\", strftime(cyclistic_no_dups$ended_at, \"%a\")))\n",
    "unique(cyclistic_no_dups$weekday)"
   ]
  },
  {
   "attachments": {},
   "cell_type": "markdown",
   "id": "9b228959",
   "metadata": {
    "papermill": {
     "duration": 0.059446,
     "end_time": "2021-06-04T13:10:54.066075",
     "exception": false,
     "start_time": "2021-06-04T13:10:54.006629",
     "status": "completed"
    },
    "tags": []
   },
   "source": [
    "<a id=\"process-code-manipulating-start\"></a>\n",
    "#### start_hour\n",
    "Getting the hour of the day also may be useful for intra day analysis"
   ]
  },
  {
   "cell_type": "code",
   "execution_count": 9,
   "id": "fe28c31b",
   "metadata": {
    "execution": {
     "iopub.execute_input": "2021-06-04T13:10:54.197543Z",
     "iopub.status.busy": "2021-06-04T13:10:54.196077Z",
     "iopub.status.idle": "2021-06-04T13:10:57.421581Z",
     "shell.execute_reply": "2021-06-04T13:10:57.420007Z"
    },
    "papermill": {
     "duration": 3.292539,
     "end_time": "2021-06-04T13:10:57.421875",
     "exception": false,
     "start_time": "2021-06-04T13:10:54.129336",
     "status": "completed"
    },
    "tags": [],
    "vscode": {
     "languageId": "r"
    }
   },
   "outputs": [
    {
     "data": {
      "text/html": [
       "<style>\n",
       ".list-inline {list-style: none; margin:0; padding: 0}\n",
       ".list-inline>li {display: inline-block}\n",
       ".list-inline>li:not(:last-child)::after {content: \"\\00b7\"; padding: 0 .5ex}\n",
       "</style>\n",
       "<ol class=list-inline><li>'18'</li><li>'17'</li><li>'13'</li><li>'11'</li><li>'14'</li><li>'10'</li><li>'15'</li><li>'16'</li><li>'03'</li><li>'12'</li><li>'09'</li><li>'08'</li><li>'20'</li><li>'19'</li><li>'21'</li><li>'23'</li><li>'07'</li><li>'22'</li><li>'06'</li><li>'01'</li><li>'05'</li><li>'00'</li><li>'02'</li><li>'04'</li></ol>\n"
      ],
      "text/latex": [
       "\\begin{enumerate*}\n",
       "\\item '18'\n",
       "\\item '17'\n",
       "\\item '13'\n",
       "\\item '11'\n",
       "\\item '14'\n",
       "\\item '10'\n",
       "\\item '15'\n",
       "\\item '16'\n",
       "\\item '03'\n",
       "\\item '12'\n",
       "\\item '09'\n",
       "\\item '08'\n",
       "\\item '20'\n",
       "\\item '19'\n",
       "\\item '21'\n",
       "\\item '23'\n",
       "\\item '07'\n",
       "\\item '22'\n",
       "\\item '06'\n",
       "\\item '01'\n",
       "\\item '05'\n",
       "\\item '00'\n",
       "\\item '02'\n",
       "\\item '04'\n",
       "\\end{enumerate*}\n"
      ],
      "text/markdown": [
       "1. '18'\n",
       "2. '17'\n",
       "3. '13'\n",
       "4. '11'\n",
       "5. '14'\n",
       "6. '10'\n",
       "7. '15'\n",
       "8. '16'\n",
       "9. '03'\n",
       "10. '12'\n",
       "11. '09'\n",
       "12. '08'\n",
       "13. '20'\n",
       "14. '19'\n",
       "15. '21'\n",
       "16. '23'\n",
       "17. '07'\n",
       "18. '22'\n",
       "19. '06'\n",
       "20. '01'\n",
       "21. '05'\n",
       "22. '00'\n",
       "23. '02'\n",
       "24. '04'\n",
       "\n",
       "\n"
      ],
      "text/plain": [
       " [1] \"18\" \"17\" \"13\" \"11\" \"14\" \"10\" \"15\" \"16\" \"03\" \"12\" \"09\" \"08\" \"20\" \"19\" \"21\"\n",
       "[16] \"23\" \"07\" \"22\" \"06\" \"01\" \"05\" \"00\" \"02\" \"04\""
      ]
     },
     "metadata": {},
     "output_type": "display_data"
    }
   ],
   "source": [
    "cyclistic_no_dups <- cyclistic_no_dups %>%\n",
    "    mutate(start_hour = strftime(cyclistic_no_dups$ended_at, \"%H\"))\n",
    "unique(cyclistic_no_dups$start_hour)"
   ]
  },
  {
   "attachments": {},
   "cell_type": "markdown",
   "id": "7e6c8e82",
   "metadata": {
    "execution": {
     "iopub.execute_input": "2021-05-27T02:50:23.917667Z",
     "iopub.status.busy": "2021-05-27T02:50:23.916349Z",
     "iopub.status.idle": "2021-05-27T02:50:24.176743Z"
    },
    "papermill": {
     "duration": 0.059487,
     "end_time": "2021-06-04T13:10:57.542672",
     "exception": false,
     "start_time": "2021-06-04T13:10:57.483185",
     "status": "completed"
    },
    "tags": []
   },
   "source": [
    "<a id=\"process-code-saving\"></a>\n",
    "### Saving the result as a CSV"
   ]
  },
  {
   "cell_type": "code",
   "execution_count": 10,
   "id": "44579bda",
   "metadata": {
    "execution": {
     "iopub.execute_input": "2021-06-04T13:10:57.668667Z",
     "iopub.status.busy": "2021-06-04T13:10:57.666940Z",
     "iopub.status.idle": "2021-06-04T13:12:58.871815Z",
     "shell.execute_reply": "2021-06-04T13:12:58.869722Z"
    },
    "papermill": {
     "duration": 121.270391,
     "end_time": "2021-06-04T13:12:58.872166",
     "exception": false,
     "start_time": "2021-06-04T13:10:57.601775",
     "status": "completed"
    },
    "tags": [],
    "vscode": {
     "languageId": "r"
    }
   },
   "outputs": [],
   "source": [
    "cyclistic_no_dups %>%\n",
    "  write.csv(\"cyclistic_clean.csv\")"
   ]
  },
  {
   "attachments": {},
   "cell_type": "markdown",
   "id": "e30c4186",
   "metadata": {
    "papermill": {
     "duration": 0.059342,
     "end_time": "2021-06-04T13:12:59.000529",
     "exception": false,
     "start_time": "2021-06-04T13:12:58.941187",
     "status": "completed"
    },
    "tags": []
   },
   "source": [
    "<a id=\"process-guiding\"></a>\n",
    "## Guiding questions\n",
    "\n",
    "* **What tools are you choosing and why?**\n",
    "\n",
    "I'm using R for this project, for two main reasons: Because of the large dataset and to gather experience with the language.\n",
    "\n",
    "* **Have you ensured your data’s integrity?**\n",
    "\n",
    "Yes, the data is consistent throughout the columns.\n",
    "\n",
    "* **What steps have you taken to ensure that your data is clean?**\n",
    "\n",
    "First the duplicated values where removed, then the columns where formatted to their correct format.\n",
    "\n",
    "* **How can you verify that your data is clean and ready to analyze?**\n",
    "\n",
    "It can be verified by this notebook.\n",
    "\n",
    "* **Have you documented your cleaning process so you can review and share those results?**\n",
    "\n",
    "Yes, it's all documented in this R notebook."
   ]
  },
  {
   "attachments": {},
   "cell_type": "markdown",
   "id": "823d97f0",
   "metadata": {
    "execution": {
     "iopub.execute_input": "2021-05-27T03:00:20.802942Z",
     "iopub.status.busy": "2021-05-27T03:00:20.801075Z",
     "iopub.status.idle": "2021-05-27T03:00:20.816523Z"
    },
    "papermill": {
     "duration": 0.060947,
     "end_time": "2021-06-04T13:12:59.121022",
     "exception": false,
     "start_time": "2021-06-04T13:12:59.060075",
     "status": "completed"
    },
    "tags": []
   },
   "source": [
    "<a id=\"process-key\"></a>\n",
    "## Key tasks\n",
    "\n",
    "- [x] Check the data for errors.\n",
    "- [x] Choose your tools.\n",
    "- [x] Transform the data so you can work with it eectively\n",
    "- [x] Document the cleaning process."
   ]
  },
  {
   "attachments": {},
   "cell_type": "markdown",
   "id": "fe0e108c",
   "metadata": {
    "papermill": {
     "duration": 0.060794,
     "end_time": "2021-06-04T13:12:59.241719",
     "exception": false,
     "start_time": "2021-06-04T13:12:59.180925",
     "status": "completed"
    },
    "tags": []
   },
   "source": [
    "<a id=\"process-deliverable\"></a>\n",
    "## Deliverable\n",
    "\n",
    "- [x] Documentation of any cleaning or manipulation of data"
   ]
  },
  {
   "attachments": {},
   "cell_type": "markdown",
   "id": "42059c70",
   "metadata": {
    "execution": {
     "iopub.execute_input": "2021-05-27T03:01:22.828119Z",
     "iopub.status.busy": "2021-05-27T03:01:22.826184Z",
     "iopub.status.idle": "2021-05-27T03:01:22.840726Z"
    },
    "papermill": {
     "duration": 0.059337,
     "end_time": "2021-06-04T13:12:59.361397",
     "exception": false,
     "start_time": "2021-06-04T13:12:59.302060",
     "status": "completed"
    },
    "tags": []
   },
   "source": [
    "<a id=\"analyze\"></a>\n",
    "# Analyze\n",
    "The data exploration will consist of building a profile for annual members and how they differ from casual riders.\n",
    "\n",
    "Putting in a new variable with a simpler name will help reduce some typing in the future."
   ]
  },
  {
   "attachments": {},
   "cell_type": "markdown",
   "id": "4c46f129",
   "metadata": {
    "papermill": {
     "duration": 0.058944,
     "end_time": "2021-06-04T13:12:59.479762",
     "exception": false,
     "start_time": "2021-06-04T13:12:59.420818",
     "status": "completed"
    },
    "tags": []
   },
   "source": [
    "<a id=\"analyze-code\"></a>\n",
    "## Code"
   ]
  },
  {
   "cell_type": "code",
   "execution_count": 11,
   "id": "f6f1e068",
   "metadata": {
    "execution": {
     "iopub.execute_input": "2021-06-04T13:12:59.610500Z",
     "iopub.status.busy": "2021-06-04T13:12:59.607733Z",
     "iopub.status.idle": "2021-06-04T13:12:59.626789Z",
     "shell.execute_reply": "2021-06-04T13:12:59.625223Z"
    },
    "papermill": {
     "duration": 0.086655,
     "end_time": "2021-06-04T13:12:59.627022",
     "exception": false,
     "start_time": "2021-06-04T13:12:59.540367",
     "status": "completed"
    },
    "tags": [],
    "vscode": {
     "languageId": "r"
    }
   },
   "outputs": [],
   "source": [
    "# This function help to resize the plots\n",
    "fig <- function(width, heigth){options(repr.plot.width = width, repr.plot.height = heigth)}"
   ]
  },
  {
   "cell_type": "code",
   "execution_count": 12,
   "id": "3a8aabcf",
   "metadata": {
    "execution": {
     "iopub.execute_input": "2021-06-04T13:12:59.752374Z",
     "iopub.status.busy": "2021-06-04T13:12:59.750436Z",
     "iopub.status.idle": "2021-06-04T13:12:59.792539Z",
     "shell.execute_reply": "2021-06-04T13:12:59.790420Z"
    },
    "papermill": {
     "duration": 0.106585,
     "end_time": "2021-06-04T13:12:59.792750",
     "exception": false,
     "start_time": "2021-06-04T13:12:59.686165",
     "status": "completed"
    },
    "tags": [],
    "vscode": {
     "languageId": "r"
    }
   },
   "outputs": [
    {
     "data": {
      "text/html": [
       "<table class=\"dataframe\">\n",
       "<caption>A data.frame: 6 × 17</caption>\n",
       "<thead>\n",
       "\t<tr><th></th><th scope=col>ride_id</th><th scope=col>rideable_type</th><th scope=col>started_at</th><th scope=col>ended_at</th><th scope=col>start_station_name</th><th scope=col>start_station_id</th><th scope=col>end_station_name</th><th scope=col>end_station_id</th><th scope=col>start_lat</th><th scope=col>start_lng</th><th scope=col>end_lat</th><th scope=col>end_lng</th><th scope=col>member_casual</th><th scope=col>ride_time_m</th><th scope=col>year_month</th><th scope=col>weekday</th><th scope=col>start_hour</th></tr>\n",
       "\t<tr><th></th><th scope=col>&lt;fct&gt;</th><th scope=col>&lt;fct&gt;</th><th scope=col>&lt;dttm&gt;</th><th scope=col>&lt;dttm&gt;</th><th scope=col>&lt;fct&gt;</th><th scope=col>&lt;chr&gt;</th><th scope=col>&lt;fct&gt;</th><th scope=col>&lt;chr&gt;</th><th scope=col>&lt;dbl&gt;</th><th scope=col>&lt;dbl&gt;</th><th scope=col>&lt;dbl&gt;</th><th scope=col>&lt;dbl&gt;</th><th scope=col>&lt;fct&gt;</th><th scope=col>&lt;dbl&gt;</th><th scope=col>&lt;chr&gt;</th><th scope=col>&lt;chr&gt;</th><th scope=col>&lt;chr&gt;</th></tr>\n",
       "</thead>\n",
       "<tbody>\n",
       "\t<tr><th scope=row>1</th><td>A847FADBBC638E45</td><td>docked_bike</td><td>2020-04-26 17:45:14</td><td>2020-04-26 18:12:03</td><td><span style=white-space:pre-wrap>Eckhart Park                       </span></td><td>86 </td><td>Lincoln Ave &amp; Diversey Pkwy</td><td>152</td><td>41.8964</td><td>-87.6610</td><td>41.9322</td><td>-87.6586</td><td>member</td><td>26.81667</td><td>2020 - 04 (Apr)</td><td>7 - Sun</td><td>18</td></tr>\n",
       "\t<tr><th scope=row>2</th><td>5405B80E996FF60D</td><td>docked_bike</td><td>2020-04-17 17:08:54</td><td>2020-04-17 17:17:03</td><td><span style=white-space:pre-wrap>Drake Ave &amp; Fullerton Ave          </span></td><td>503</td><td><span style=white-space:pre-wrap>Kosciuszko Park            </span></td><td>499</td><td>41.9244</td><td>-87.7154</td><td>41.9306</td><td>-87.7238</td><td>member</td><td> 8.15000</td><td>2020 - 04 (Apr)</td><td>5 - Fri</td><td>17</td></tr>\n",
       "\t<tr><th scope=row>3</th><td>5DD24A79A4E006F4</td><td>docked_bike</td><td>2020-04-01 17:54:13</td><td>2020-04-01 18:08:36</td><td><span style=white-space:pre-wrap>McClurg Ct &amp; Erie St               </span></td><td>142</td><td>Indiana Ave &amp; Roosevelt Rd </td><td>255</td><td>41.8945</td><td>-87.6179</td><td>41.8679</td><td>-87.6230</td><td>member</td><td>14.38333</td><td>2020 - 04 (Apr)</td><td>3 - Wed</td><td>18</td></tr>\n",
       "\t<tr><th scope=row>4</th><td>2A59BBDF5CDBA725</td><td>docked_bike</td><td>2020-04-07 12:50:19</td><td>2020-04-07 13:02:31</td><td><span style=white-space:pre-wrap>California Ave &amp; Division St       </span></td><td>216</td><td><span style=white-space:pre-wrap>Wood St &amp; Augusta Blvd     </span></td><td>657</td><td>41.9030</td><td>-87.6975</td><td>41.8992</td><td>-87.6722</td><td>member</td><td>12.20000</td><td>2020 - 04 (Apr)</td><td>2 - Tue</td><td>13</td></tr>\n",
       "\t<tr><th scope=row>5</th><td>27AD306C119C6158</td><td>docked_bike</td><td>2020-04-18 10:22:59</td><td>2020-04-18 11:15:54</td><td><span style=white-space:pre-wrap>Rush St &amp; Hubbard St               </span></td><td>125</td><td>Sheridan Rd &amp; Lawrence Ave </td><td>323</td><td>41.8902</td><td>-87.6262</td><td>41.9695</td><td>-87.6547</td><td>casual</td><td>52.91667</td><td>2020 - 04 (Apr)</td><td>6 - Sat</td><td>11</td></tr>\n",
       "\t<tr><th scope=row>6</th><td>356216E875132F61</td><td>docked_bike</td><td>2020-04-30 17:55:47</td><td>2020-04-30 18:01:11</td><td>Mies van der Rohe Way &amp; Chicago Ave</td><td>173</td><td><span style=white-space:pre-wrap>Streeter Dr &amp; Grand Ave    </span></td><td>35 </td><td>41.8969</td><td>-87.6217</td><td>41.8923</td><td>-87.6120</td><td>member</td><td> 5.40000</td><td>2020 - 04 (Apr)</td><td>4 - Thu</td><td>18</td></tr>\n",
       "</tbody>\n",
       "</table>\n"
      ],
      "text/latex": [
       "A data.frame: 6 × 17\n",
       "\\begin{tabular}{r|lllllllllllllllll}\n",
       "  & ride\\_id & rideable\\_type & started\\_at & ended\\_at & start\\_station\\_name & start\\_station\\_id & end\\_station\\_name & end\\_station\\_id & start\\_lat & start\\_lng & end\\_lat & end\\_lng & member\\_casual & ride\\_time\\_m & year\\_month & weekday & start\\_hour\\\\\n",
       "  & <fct> & <fct> & <dttm> & <dttm> & <fct> & <chr> & <fct> & <chr> & <dbl> & <dbl> & <dbl> & <dbl> & <fct> & <dbl> & <chr> & <chr> & <chr>\\\\\n",
       "\\hline\n",
       "\t1 & A847FADBBC638E45 & docked\\_bike & 2020-04-26 17:45:14 & 2020-04-26 18:12:03 & Eckhart Park                        & 86  & Lincoln Ave \\& Diversey Pkwy & 152 & 41.8964 & -87.6610 & 41.9322 & -87.6586 & member & 26.81667 & 2020 - 04 (Apr) & 7 - Sun & 18\\\\\n",
       "\t2 & 5405B80E996FF60D & docked\\_bike & 2020-04-17 17:08:54 & 2020-04-17 17:17:03 & Drake Ave \\& Fullerton Ave           & 503 & Kosciuszko Park             & 499 & 41.9244 & -87.7154 & 41.9306 & -87.7238 & member &  8.15000 & 2020 - 04 (Apr) & 5 - Fri & 17\\\\\n",
       "\t3 & 5DD24A79A4E006F4 & docked\\_bike & 2020-04-01 17:54:13 & 2020-04-01 18:08:36 & McClurg Ct \\& Erie St                & 142 & Indiana Ave \\& Roosevelt Rd  & 255 & 41.8945 & -87.6179 & 41.8679 & -87.6230 & member & 14.38333 & 2020 - 04 (Apr) & 3 - Wed & 18\\\\\n",
       "\t4 & 2A59BBDF5CDBA725 & docked\\_bike & 2020-04-07 12:50:19 & 2020-04-07 13:02:31 & California Ave \\& Division St        & 216 & Wood St \\& Augusta Blvd      & 657 & 41.9030 & -87.6975 & 41.8992 & -87.6722 & member & 12.20000 & 2020 - 04 (Apr) & 2 - Tue & 13\\\\\n",
       "\t5 & 27AD306C119C6158 & docked\\_bike & 2020-04-18 10:22:59 & 2020-04-18 11:15:54 & Rush St \\& Hubbard St                & 125 & Sheridan Rd \\& Lawrence Ave  & 323 & 41.8902 & -87.6262 & 41.9695 & -87.6547 & casual & 52.91667 & 2020 - 04 (Apr) & 6 - Sat & 11\\\\\n",
       "\t6 & 356216E875132F61 & docked\\_bike & 2020-04-30 17:55:47 & 2020-04-30 18:01:11 & Mies van der Rohe Way \\& Chicago Ave & 173 & Streeter Dr \\& Grand Ave     & 35  & 41.8969 & -87.6217 & 41.8923 & -87.6120 & member &  5.40000 & 2020 - 04 (Apr) & 4 - Thu & 18\\\\\n",
       "\\end{tabular}\n"
      ],
      "text/markdown": [
       "\n",
       "A data.frame: 6 × 17\n",
       "\n",
       "| <!--/--> | ride_id &lt;fct&gt; | rideable_type &lt;fct&gt; | started_at &lt;dttm&gt; | ended_at &lt;dttm&gt; | start_station_name &lt;fct&gt; | start_station_id &lt;chr&gt; | end_station_name &lt;fct&gt; | end_station_id &lt;chr&gt; | start_lat &lt;dbl&gt; | start_lng &lt;dbl&gt; | end_lat &lt;dbl&gt; | end_lng &lt;dbl&gt; | member_casual &lt;fct&gt; | ride_time_m &lt;dbl&gt; | year_month &lt;chr&gt; | weekday &lt;chr&gt; | start_hour &lt;chr&gt; |\n",
       "|---|---|---|---|---|---|---|---|---|---|---|---|---|---|---|---|---|---|\n",
       "| 1 | A847FADBBC638E45 | docked_bike | 2020-04-26 17:45:14 | 2020-04-26 18:12:03 | Eckhart Park                        | 86  | Lincoln Ave &amp; Diversey Pkwy | 152 | 41.8964 | -87.6610 | 41.9322 | -87.6586 | member | 26.81667 | 2020 - 04 (Apr) | 7 - Sun | 18 |\n",
       "| 2 | 5405B80E996FF60D | docked_bike | 2020-04-17 17:08:54 | 2020-04-17 17:17:03 | Drake Ave &amp; Fullerton Ave           | 503 | Kosciuszko Park             | 499 | 41.9244 | -87.7154 | 41.9306 | -87.7238 | member |  8.15000 | 2020 - 04 (Apr) | 5 - Fri | 17 |\n",
       "| 3 | 5DD24A79A4E006F4 | docked_bike | 2020-04-01 17:54:13 | 2020-04-01 18:08:36 | McClurg Ct &amp; Erie St                | 142 | Indiana Ave &amp; Roosevelt Rd  | 255 | 41.8945 | -87.6179 | 41.8679 | -87.6230 | member | 14.38333 | 2020 - 04 (Apr) | 3 - Wed | 18 |\n",
       "| 4 | 2A59BBDF5CDBA725 | docked_bike | 2020-04-07 12:50:19 | 2020-04-07 13:02:31 | California Ave &amp; Division St        | 216 | Wood St &amp; Augusta Blvd      | 657 | 41.9030 | -87.6975 | 41.8992 | -87.6722 | member | 12.20000 | 2020 - 04 (Apr) | 2 - Tue | 13 |\n",
       "| 5 | 27AD306C119C6158 | docked_bike | 2020-04-18 10:22:59 | 2020-04-18 11:15:54 | Rush St &amp; Hubbard St                | 125 | Sheridan Rd &amp; Lawrence Ave  | 323 | 41.8902 | -87.6262 | 41.9695 | -87.6547 | casual | 52.91667 | 2020 - 04 (Apr) | 6 - Sat | 11 |\n",
       "| 6 | 356216E875132F61 | docked_bike | 2020-04-30 17:55:47 | 2020-04-30 18:01:11 | Mies van der Rohe Way &amp; Chicago Ave | 173 | Streeter Dr &amp; Grand Ave     | 35  | 41.8969 | -87.6217 | 41.8923 | -87.6120 | member |  5.40000 | 2020 - 04 (Apr) | 4 - Thu | 18 |\n",
       "\n"
      ],
      "text/plain": [
       "  ride_id          rideable_type started_at          ended_at           \n",
       "1 A847FADBBC638E45 docked_bike   2020-04-26 17:45:14 2020-04-26 18:12:03\n",
       "2 5405B80E996FF60D docked_bike   2020-04-17 17:08:54 2020-04-17 17:17:03\n",
       "3 5DD24A79A4E006F4 docked_bike   2020-04-01 17:54:13 2020-04-01 18:08:36\n",
       "4 2A59BBDF5CDBA725 docked_bike   2020-04-07 12:50:19 2020-04-07 13:02:31\n",
       "5 27AD306C119C6158 docked_bike   2020-04-18 10:22:59 2020-04-18 11:15:54\n",
       "6 356216E875132F61 docked_bike   2020-04-30 17:55:47 2020-04-30 18:01:11\n",
       "  start_station_name                  start_station_id\n",
       "1 Eckhart Park                        86              \n",
       "2 Drake Ave & Fullerton Ave           503             \n",
       "3 McClurg Ct & Erie St                142             \n",
       "4 California Ave & Division St        216             \n",
       "5 Rush St & Hubbard St                125             \n",
       "6 Mies van der Rohe Way & Chicago Ave 173             \n",
       "  end_station_name            end_station_id start_lat start_lng end_lat\n",
       "1 Lincoln Ave & Diversey Pkwy 152            41.8964   -87.6610  41.9322\n",
       "2 Kosciuszko Park             499            41.9244   -87.7154  41.9306\n",
       "3 Indiana Ave & Roosevelt Rd  255            41.8945   -87.6179  41.8679\n",
       "4 Wood St & Augusta Blvd      657            41.9030   -87.6975  41.8992\n",
       "5 Sheridan Rd & Lawrence Ave  323            41.8902   -87.6262  41.9695\n",
       "6 Streeter Dr & Grand Ave     35             41.8969   -87.6217  41.8923\n",
       "  end_lng  member_casual ride_time_m year_month      weekday start_hour\n",
       "1 -87.6586 member        26.81667    2020 - 04 (Apr) 7 - Sun 18        \n",
       "2 -87.7238 member         8.15000    2020 - 04 (Apr) 5 - Fri 17        \n",
       "3 -87.6230 member        14.38333    2020 - 04 (Apr) 3 - Wed 18        \n",
       "4 -87.6722 member        12.20000    2020 - 04 (Apr) 2 - Tue 13        \n",
       "5 -87.6547 casual        52.91667    2020 - 04 (Apr) 6 - Sat 11        \n",
       "6 -87.6120 member         5.40000    2020 - 04 (Apr) 4 - Thu 18        "
      ]
     },
     "metadata": {},
     "output_type": "display_data"
    }
   ],
   "source": [
    "cyclistic <- cyclistic_no_dups\n",
    "head(cyclistic)"
   ]
  },
  {
   "attachments": {},
   "cell_type": "markdown",
   "id": "046cfbf4",
   "metadata": {
    "papermill": {
     "duration": 0.060787,
     "end_time": "2021-06-04T13:12:59.914102",
     "exception": false,
     "start_time": "2021-06-04T13:12:59.853315",
     "status": "completed"
    },
    "tags": []
   },
   "source": [
    "To quick start, let's generate a summary of the dataset"
   ]
  },
  {
   "cell_type": "code",
   "execution_count": 13,
   "id": "d5261cc7",
   "metadata": {
    "execution": {
     "iopub.execute_input": "2021-06-04T13:13:00.043458Z",
     "iopub.status.busy": "2021-06-04T13:13:00.041536Z",
     "iopub.status.idle": "2021-06-04T13:13:07.743784Z",
     "shell.execute_reply": "2021-06-04T13:13:07.742195Z"
    },
    "papermill": {
     "duration": 7.769812,
     "end_time": "2021-06-04T13:13:07.744062",
     "exception": false,
     "start_time": "2021-06-04T13:12:59.974250",
     "status": "completed"
    },
    "tags": [],
    "vscode": {
     "languageId": "r"
    }
   },
   "outputs": [
    {
     "data": {
      "text/plain": [
       "             ride_id              rideable_type    \n",
       " 00009D28BA1C43CB:      1   docked_bike  :2558260  \n",
       " 000164C1A5EE8E34:      1   electric_bike: 611406  \n",
       " 00016D3A09FD9C54:      1   classic_bike : 319873  \n",
       " 00017CD018F07967:      1                          \n",
       " 0001C8191EAB7DA8:      1                          \n",
       " 0001ECEB9AF8C006:      1                          \n",
       " (Other)         :3489533                          \n",
       "   started_at                     ended_at                  \n",
       " Min.   :2020-04-01 00:00:30   Min.   :2020-04-01 00:10:45  \n",
       " 1st Qu.:2020-07-14 19:36:28   1st Qu.:2020-07-14 20:11:10  \n",
       " Median :2020-08-29 14:47:30   Median :2020-08-29 15:18:24  \n",
       " Mean   :2020-09-10 01:13:26   Mean   :2020-09-10 01:39:55  \n",
       " 3rd Qu.:2020-10-20 18:07:35   3rd Qu.:2020-10-20 18:21:47  \n",
       " Max.   :2021-03-31 23:59:08   Max.   :2021-04-06 11:00:11  \n",
       "                                                            \n",
       "                  start_station_name  start_station_id  \n",
       "                           : 122175   Length:3489539    \n",
       " Streeter Dr & Grand Ave   :  35363   Class :character  \n",
       " Clark St & Elm St         :  32471   Mode  :character  \n",
       " Lake Shore Dr & Monroe St :  29918                     \n",
       " Theater on the Lake       :  29887                     \n",
       " Lake Shore Dr & North Blvd:  27126                     \n",
       " (Other)                   :3212599                     \n",
       "                   end_station_name   end_station_id       start_lat    \n",
       "                           : 143241   Length:3489539     Min.   :41.64  \n",
       " Streeter Dr & Grand Ave   :  37425   Class :character   1st Qu.:41.88  \n",
       " Clark St & Elm St         :  32254   Mode  :character   Median :41.90  \n",
       " Theater on the Lake       :  31281                      Mean   :41.90  \n",
       " Lake Shore Dr & Monroe St :  29280                      3rd Qu.:41.93  \n",
       " Lake Shore Dr & North Blvd:  27611                      Max.   :42.08  \n",
       " (Other)                   :3188447                                     \n",
       "   start_lng         end_lat         end_lng       member_casual   \n",
       " Min.   :-87.87   Min.   :41.54   Min.   :-88.07   casual:1430351  \n",
       " 1st Qu.:-87.66   1st Qu.:41.88   1st Qu.:-87.66   member:2059188  \n",
       " Median :-87.64   Median :41.90   Median :-87.64                   \n",
       " Mean   :-87.64   Mean   :41.90   Mean   :-87.64                   \n",
       " 3rd Qu.:-87.63   3rd Qu.:41.93   3rd Qu.:-87.63                   \n",
       " Max.   :-87.52   Max.   :42.16   Max.   :-87.44                   \n",
       "                  NA's   :4737    NA's   :4737                     \n",
       "  ride_time_m         year_month          weekday           start_hour       \n",
       " Min.   :-29049.97   Length:3489539     Length:3489539     Length:3489539    \n",
       " 1st Qu.:     7.88   Class :character   Class :character   Class :character  \n",
       " Median :    14.52   Mode  :character   Mode  :character   Mode  :character  \n",
       " Mean   :    26.48                                                           \n",
       " 3rd Qu.:    26.63                                                           \n",
       " Max.   : 58720.03                                                           \n",
       "                                                                             "
      ]
     },
     "metadata": {},
     "output_type": "display_data"
    }
   ],
   "source": [
    "summary(cyclistic)"
   ]
  },
  {
   "attachments": {},
   "cell_type": "markdown",
   "id": "4a0a17a1",
   "metadata": {
    "papermill": {
     "duration": 0.060315,
     "end_time": "2021-06-04T13:13:07.865648",
     "exception": false,
     "start_time": "2021-06-04T13:13:07.805333",
     "status": "completed"
    },
    "tags": []
   },
   "source": [
    "One thing that immediately catches the attention is ride_time_m. This field has negative values, and the biggest value is 58720.03, which is 40 days and 46 hours. This field will be explored further in the document."
   ]
  },
  {
   "attachments": {},
   "cell_type": "markdown",
   "id": "54f28148",
   "metadata": {
    "execution": {
     "iopub.execute_input": "2021-05-27T15:47:28.459909Z",
     "iopub.status.busy": "2021-05-27T15:47:28.456639Z",
     "iopub.status.idle": "2021-05-27T15:47:28.505996Z"
    },
    "papermill": {
     "duration": 0.060678,
     "end_time": "2021-06-04T13:13:07.986725",
     "exception": false,
     "start_time": "2021-06-04T13:13:07.926047",
     "status": "completed"
    },
    "tags": []
   },
   "source": [
    "<a id=\"analyze-code-data\"></a>\n",
    "### Data distribution\n",
    "Here we want to try to answer the most basic questions about how the data is distributed."
   ]
  },
  {
   "attachments": {},
   "cell_type": "markdown",
   "id": "cb52eabb",
   "metadata": {
    "papermill": {
     "duration": 0.061766,
     "end_time": "2021-06-04T13:13:08.108972",
     "exception": false,
     "start_time": "2021-06-04T13:13:08.047206",
     "status": "completed"
    },
    "tags": []
   },
   "source": [
    "<a id=\"analyze-code-data-casuals\"></a>\n",
    "#### Casuals vs members\n",
    "How much of the data is about members and how much is about casuals?"
   ]
  },
  {
   "cell_type": "code",
   "execution_count": 14,
   "id": "70717a9e",
   "metadata": {
    "execution": {
     "iopub.execute_input": "2021-06-04T13:13:08.240037Z",
     "iopub.status.busy": "2021-06-04T13:13:08.238450Z",
     "iopub.status.idle": "2021-06-04T13:13:08.360426Z",
     "shell.execute_reply": "2021-06-04T13:13:08.358590Z"
    },
    "papermill": {
     "duration": 0.188667,
     "end_time": "2021-06-04T13:13:08.360615",
     "exception": false,
     "start_time": "2021-06-04T13:13:08.171948",
     "status": "completed"
    },
    "tags": [],
    "vscode": {
     "languageId": "r"
    }
   },
   "outputs": [
    {
     "data": {
      "text/html": [
       "<table class=\"dataframe\">\n",
       "<caption>A tibble: 2 × 3</caption>\n",
       "<thead>\n",
       "\t<tr><th scope=col>member_casual</th><th scope=col>count</th><th scope=col>%</th></tr>\n",
       "\t<tr><th scope=col>&lt;fct&gt;</th><th scope=col>&lt;int&gt;</th><th scope=col>&lt;dbl&gt;</th></tr>\n",
       "</thead>\n",
       "<tbody>\n",
       "\t<tr><td>casual</td><td>1430351</td><td>40.98968</td></tr>\n",
       "\t<tr><td>member</td><td>2059188</td><td>59.01032</td></tr>\n",
       "</tbody>\n",
       "</table>\n"
      ],
      "text/latex": [
       "A tibble: 2 × 3\n",
       "\\begin{tabular}{lll}\n",
       " member\\_casual & count & \\%\\\\\n",
       " <fct> & <int> & <dbl>\\\\\n",
       "\\hline\n",
       "\t casual & 1430351 & 40.98968\\\\\n",
       "\t member & 2059188 & 59.01032\\\\\n",
       "\\end{tabular}\n"
      ],
      "text/markdown": [
       "\n",
       "A tibble: 2 × 3\n",
       "\n",
       "| member_casual &lt;fct&gt; | count &lt;int&gt; | % &lt;dbl&gt; |\n",
       "|---|---|---|\n",
       "| casual | 1430351 | 40.98968 |\n",
       "| member | 2059188 | 59.01032 |\n",
       "\n"
      ],
      "text/plain": [
       "  member_casual count   %       \n",
       "1 casual        1430351 40.98968\n",
       "2 member        2059188 59.01032"
      ]
     },
     "metadata": {},
     "output_type": "display_data"
    }
   ],
   "source": [
    "cyclistic %>% \n",
    "    group_by(member_casual) %>% \n",
    "    summarise(count = length(ride_id),\n",
    "              '%' = (length(ride_id) / nrow(cyclistic)) * 100)"
   ]
  },
  {
   "cell_type": "code",
   "execution_count": 15,
   "id": "77b009fb",
   "metadata": {
    "execution": {
     "iopub.execute_input": "2021-06-04T13:13:08.492649Z",
     "iopub.status.busy": "2021-06-04T13:13:08.490375Z",
     "iopub.status.idle": "2021-06-04T13:13:14.643938Z",
     "shell.execute_reply": "2021-06-04T13:13:14.641729Z"
    },
    "papermill": {
     "duration": 6.221513,
     "end_time": "2021-06-04T13:13:14.644226",
     "exception": false,
     "start_time": "2021-06-04T13:13:08.422713",
     "status": "completed"
    },
    "tags": [],
    "vscode": {
     "languageId": "r"
    }
   },
   "outputs": [
    {
     "data": {
      "image/png": "[encoded data removed]"
     },
     "metadata": {
      "image/png": {
       "height": 480,
       "width": 960
      }
     },
     "output_type": "display_data"
    }
   ],
   "source": [
    "fig(16,8)\n",
    "ggplot(cyclistic, aes(member_casual, fill=member_casual)) +\n",
    "    geom_bar() +\n",
    "    labs(x=\"Casuals x Members\", title=\"Chart 01 - Casuals x Members distribution\")"
   ]
  },
  {
   "attachments": {},
   "cell_type": "markdown",
   "id": "6a6d2f13",
   "metadata": {
    "papermill": {
     "duration": 0.063643,
     "end_time": "2021-06-04T13:13:14.772522",
     "exception": false,
     "start_time": "2021-06-04T13:13:14.708879",
     "status": "completed"
    },
    "tags": []
   },
   "source": [
    "As we can see on the member x casual table, members have a bigger proporcion of the dataset, composing ~59%, ~19% bigger than the count of casual riders."
   ]
  },
  {
   "attachments": {},
   "cell_type": "markdown",
   "id": "a5305f1f",
   "metadata": {
    "papermill": {
     "duration": 0.063565,
     "end_time": "2021-06-04T13:13:14.902701",
     "exception": false,
     "start_time": "2021-06-04T13:13:14.839136",
     "status": "completed"
    },
    "tags": []
   },
   "source": [
    "<a id=\"analyze-code-data-month\"></a>\n",
    "#### Month\n",
    "How much of the data is distributed by month?"
   ]
  },
  {
   "cell_type": "code",
   "execution_count": 16,
   "id": "5c24e2c6",
   "metadata": {
    "execution": {
     "iopub.execute_input": "2021-06-04T13:13:15.037734Z",
     "iopub.status.busy": "2021-06-04T13:13:15.035618Z",
     "iopub.status.idle": "2021-06-04T13:13:16.729399Z",
     "shell.execute_reply": "2021-06-04T13:13:16.728216Z"
    },
    "papermill": {
     "duration": 1.764044,
     "end_time": "2021-06-04T13:13:16.729577",
     "exception": false,
     "start_time": "2021-06-04T13:13:14.965533",
     "status": "completed"
    },
    "tags": [],
    "vscode": {
     "languageId": "r"
    }
   },
   "outputs": [
    {
     "data": {
      "text/html": [
       "<table class=\"dataframe\">\n",
       "<caption>A tibble: 12 × 6</caption>\n",
       "<thead>\n",
       "\t<tr><th scope=col>year_month</th><th scope=col>count</th><th scope=col>%</th><th scope=col>members_p</th><th scope=col>casual_p</th><th scope=col>Member x Casual Perc Difer</th></tr>\n",
       "\t<tr><th scope=col>&lt;chr&gt;</th><th scope=col>&lt;int&gt;</th><th scope=col>&lt;dbl&gt;</th><th scope=col>&lt;dbl&gt;</th><th scope=col>&lt;dbl&gt;</th><th scope=col>&lt;dbl&gt;</th></tr>\n",
       "</thead>\n",
       "<tbody>\n",
       "\t<tr><td>2020 - 04 (Apr)</td><td> 84776</td><td> 2.429433</td><td>72.12890</td><td>27.87110</td><td>44.257809</td></tr>\n",
       "\t<tr><td>2020 - 05 (May)</td><td>200274</td><td> 5.739268</td><td>56.60495</td><td>43.39505</td><td>13.209902</td></tr>\n",
       "\t<tr><td>2020 - 06 (Jun)</td><td>343005</td><td> 9.829522</td><td>54.89337</td><td>45.10663</td><td> 9.786738</td></tr>\n",
       "\t<tr><td>2020 - 07 (Jul)</td><td>551480</td><td>15.803807</td><td>51.16849</td><td>48.83151</td><td> 2.336984</td></tr>\n",
       "\t<tr><td>2020 - 08 (Aug)</td><td>622361</td><td>17.835049</td><td>53.45772</td><td>46.54228</td><td> 6.915440</td></tr>\n",
       "\t<tr><td>2020 - 09 (Sep)</td><td>532958</td><td>15.273020</td><td>56.71479</td><td>43.28521</td><td>13.429576</td></tr>\n",
       "\t<tr><td>2020 - 10 (Oct)</td><td>388653</td><td>11.137660</td><td>62.68857</td><td>37.31143</td><td>25.377136</td></tr>\n",
       "\t<tr><td>2020 - 11 (Nov)</td><td>259716</td><td> 7.442702</td><td>66.07872</td><td>33.92128</td><td>32.157434</td></tr>\n",
       "\t<tr><td>2020 - 12 (Dec)</td><td>131364</td><td> 3.764509</td><td>77.12082</td><td>22.87918</td><td>54.241649</td></tr>\n",
       "\t<tr><td>2021 - 01 (Jan)</td><td> 96834</td><td> 2.774980</td><td>81.29066</td><td>18.70934</td><td>62.581325</td></tr>\n",
       "\t<tr><td>2021 - 02 (Feb)</td><td> 49622</td><td> 1.422022</td><td>79.58365</td><td>20.41635</td><td>59.167305</td></tr>\n",
       "\t<tr><td>2021 - 03 (Mar)</td><td>228496</td><td> 6.548028</td><td>63.22343</td><td>36.77657</td><td>26.446852</td></tr>\n",
       "</tbody>\n",
       "</table>\n"
      ],
      "text/latex": [
       "A tibble: 12 × 6\n",
       "\\begin{tabular}{llllll}\n",
       " year\\_month & count & \\% & members\\_p & casual\\_p & Member x Casual Perc Difer\\\\\n",
       " <chr> & <int> & <dbl> & <dbl> & <dbl> & <dbl>\\\\\n",
       "\\hline\n",
       "\t 2020 - 04 (Apr) &  84776 &  2.429433 & 72.12890 & 27.87110 & 44.257809\\\\\n",
       "\t 2020 - 05 (May) & 200274 &  5.739268 & 56.60495 & 43.39505 & 13.209902\\\\\n",
       "\t 2020 - 06 (Jun) & 343005 &  9.829522 & 54.89337 & 45.10663 &  9.786738\\\\\n",
       "\t 2020 - 07 (Jul) & 551480 & 15.803807 & 51.16849 & 48.83151 &  2.336984\\\\\n",
       "\t 2020 - 08 (Aug) & 622361 & 17.835049 & 53.45772 & 46.54228 &  6.915440\\\\\n",
       "\t 2020 - 09 (Sep) & 532958 & 15.273020 & 56.71479 & 43.28521 & 13.429576\\\\\n",
       "\t 2020 - 10 (Oct) & 388653 & 11.137660 & 62.68857 & 37.31143 & 25.377136\\\\\n",
       "\t 2020 - 11 (Nov) & 259716 &  7.442702 & 66.07872 & 33.92128 & 32.157434\\\\\n",
       "\t 2020 - 12 (Dec) & 131364 &  3.764509 & 77.12082 & 22.87918 & 54.241649\\\\\n",
       "\t 2021 - 01 (Jan) &  96834 &  2.774980 & 81.29066 & 18.70934 & 62.581325\\\\\n",
       "\t 2021 - 02 (Feb) &  49622 &  1.422022 & 79.58365 & 20.41635 & 59.167305\\\\\n",
       "\t 2021 - 03 (Mar) & 228496 &  6.548028 & 63.22343 & 36.77657 & 26.446852\\\\\n",
       "\\end{tabular}\n"
      ],
      "text/markdown": [
       "\n",
       "A tibble: 12 × 6\n",
       "\n",
       "| year_month &lt;chr&gt; | count &lt;int&gt; | % &lt;dbl&gt; | members_p &lt;dbl&gt; | casual_p &lt;dbl&gt; | Member x Casual Perc Difer &lt;dbl&gt; |\n",
       "|---|---|---|---|---|---|\n",
       "| 2020 - 04 (Apr) |  84776 |  2.429433 | 72.12890 | 27.87110 | 44.257809 |\n",
       "| 2020 - 05 (May) | 200274 |  5.739268 | 56.60495 | 43.39505 | 13.209902 |\n",
       "| 2020 - 06 (Jun) | 343005 |  9.829522 | 54.89337 | 45.10663 |  9.786738 |\n",
       "| 2020 - 07 (Jul) | 551480 | 15.803807 | 51.16849 | 48.83151 |  2.336984 |\n",
       "| 2020 - 08 (Aug) | 622361 | 17.835049 | 53.45772 | 46.54228 |  6.915440 |\n",
       "| 2020 - 09 (Sep) | 532958 | 15.273020 | 56.71479 | 43.28521 | 13.429576 |\n",
       "| 2020 - 10 (Oct) | 388653 | 11.137660 | 62.68857 | 37.31143 | 25.377136 |\n",
       "| 2020 - 11 (Nov) | 259716 |  7.442702 | 66.07872 | 33.92128 | 32.157434 |\n",
       "| 2020 - 12 (Dec) | 131364 |  3.764509 | 77.12082 | 22.87918 | 54.241649 |\n",
       "| 2021 - 01 (Jan) |  96834 |  2.774980 | 81.29066 | 18.70934 | 62.581325 |\n",
       "| 2021 - 02 (Feb) |  49622 |  1.422022 | 79.58365 | 20.41635 | 59.167305 |\n",
       "| 2021 - 03 (Mar) | 228496 |  6.548028 | 63.22343 | 36.77657 | 26.446852 |\n",
       "\n"
      ],
      "text/plain": [
       "   year_month      count  %         members_p casual_p\n",
       "1  2020 - 04 (Apr)  84776  2.429433 72.12890  27.87110\n",
       "2  2020 - 05 (May) 200274  5.739268 56.60495  43.39505\n",
       "3  2020 - 06 (Jun) 343005  9.829522 54.89337  45.10663\n",
       "4  2020 - 07 (Jul) 551480 15.803807 51.16849  48.83151\n",
       "5  2020 - 08 (Aug) 622361 17.835049 53.45772  46.54228\n",
       "6  2020 - 09 (Sep) 532958 15.273020 56.71479  43.28521\n",
       "7  2020 - 10 (Oct) 388653 11.137660 62.68857  37.31143\n",
       "8  2020 - 11 (Nov) 259716  7.442702 66.07872  33.92128\n",
       "9  2020 - 12 (Dec) 131364  3.764509 77.12082  22.87918\n",
       "10 2021 - 01 (Jan)  96834  2.774980 81.29066  18.70934\n",
       "11 2021 - 02 (Feb)  49622  1.422022 79.58365  20.41635\n",
       "12 2021 - 03 (Mar) 228496  6.548028 63.22343  36.77657\n",
       "   Member x Casual Perc Difer\n",
       "1  44.257809                 \n",
       "2  13.209902                 \n",
       "3   9.786738                 \n",
       "4   2.336984                 \n",
       "5   6.915440                 \n",
       "6  13.429576                 \n",
       "7  25.377136                 \n",
       "8  32.157434                 \n",
       "9  54.241649                 \n",
       "10 62.581325                 \n",
       "11 59.167305                 \n",
       "12 26.446852                 "
      ]
     },
     "metadata": {},
     "output_type": "display_data"
    }
   ],
   "source": [
    "cyclistic %>%\n",
    "    group_by(year_month) %>%\n",
    "    summarise(count = length(ride_id),\n",
    "              '%' = (length(ride_id) / nrow(cyclistic)) * 100,\n",
    "              'members_p' = (sum(member_casual == \"member\") / length(ride_id)) * 100,\n",
    "              'casual_p' = (sum(member_casual == \"casual\") / length(ride_id)) * 100,\n",
    "              'Member x Casual Perc Difer' = members_p - casual_p)"
   ]
  },
  {
   "cell_type": "code",
   "execution_count": 17,
   "id": "ca7488da",
   "metadata": {
    "execution": {
     "iopub.execute_input": "2021-06-04T13:13:16.868506Z",
     "iopub.status.busy": "2021-06-04T13:13:16.866833Z",
     "iopub.status.idle": "2021-06-04T13:13:24.015389Z",
     "shell.execute_reply": "2021-06-04T13:13:24.014288Z"
    },
    "papermill": {
     "duration": 7.219258,
     "end_time": "2021-06-04T13:13:24.015575",
     "exception": false,
     "start_time": "2021-06-04T13:13:16.796317",
     "status": "completed"
    },
    "tags": [],
    "vscode": {
     "languageId": "r"
    }
   },
   "outputs": [
    {
     "data": {
      "image/png": "[encoded data removed]"
     },
     "metadata": {
      "image/png": {
       "height": 480,
       "width": 960
      }
     },
     "output_type": "display_data"
    }
   ],
   "source": [
    "cyclistic %>%\n",
    "  ggplot(aes(year_month, fill=member_casual)) +\n",
    "    geom_bar() +\n",
    "    labs(x=\"Month\", title=\"Chart 02 - Distribution by month\") +\n",
    "    coord_flip()"
   ]
  },
  {
   "attachments": {},
   "cell_type": "markdown",
   "id": "b90640e1",
   "metadata": {
    "papermill": {
     "duration": 0.067221,
     "end_time": "2021-06-04T13:13:24.149065",
     "exception": false,
     "start_time": "2021-06-04T13:13:24.081844",
     "status": "completed"
    },
    "tags": []
   },
   "source": [
    "Some considerations can be taken by this chart:\n",
    "* There's more data points at the last semester of 2020.\n",
    "* The month with the biggest count of data points was August with ~18% of the dataset.\n",
    "* In all months we have more members' rides than casual rides (Maybe because of returning members).\n",
    "* The difference of proporcion of member x casual is smaller in the last semester of 2020.\n",
    "\n",
    "The distribution looks cyclical. Let's compare it with climate data for Chicago.\n",
    "The data will be taken by [Climate of Chicago](https://en.wikipedia.org/wiki/Climate_of_Chicago) (Daily mean °C, 1991–2020)."
   ]
  },
  {
   "cell_type": "code",
   "execution_count": 18,
   "id": "bb74d26c",
   "metadata": {
    "execution": {
     "iopub.execute_input": "2021-06-04T13:13:24.289357Z",
     "iopub.status.busy": "2021-06-04T13:13:24.287386Z",
     "iopub.status.idle": "2021-06-04T13:13:24.622350Z",
     "shell.execute_reply": "2021-06-04T13:13:24.620758Z"
    },
    "papermill": {
     "duration": 0.407521,
     "end_time": "2021-06-04T13:13:24.622512",
     "exception": false,
     "start_time": "2021-06-04T13:13:24.214991",
     "status": "completed"
    },
    "tags": [],
    "vscode": {
     "languageId": "r"
    }
   },
   "outputs": [
    {
     "data": {
      "image/png": "[encoded data removed]"
     },
     "metadata": {
      "image/png": {
       "height": 480,
       "width": 960
      }
     },
     "output_type": "display_data"
    }
   ],
   "source": [
    "chicago_mean_temp <- c(-3.2, -1.2, 4.4, 10.5, 16.6, 22.2, 24.8, 23.9, 19.9, 12.9, 5.8, -0.3)\n",
    "month <- c(\"001 - Jan\",\"002 - Feb\",\"003 - Mar\",\"004 - Apr\",\"005 - May\",\"006 - Jun\",\"007 - Jul\",\"008 - Aug\",\"009 - Sep\",\"010 - Oct\",\"011 - Nov\",\"012 - Dec\")\n",
    "\n",
    "data.frame(month, chicago_mean_temp) %>%\n",
    "    ggplot(aes(x=month, y=chicago_mean_temp)) +\n",
    "    labs(x=\"Month\", y=\"Mean temperature\", title=\"Chart 02.5 - Mean temperature for Chicago (1991-2020)\") +\n",
    "    geom_col()\n"
   ]
  },
  {
   "attachments": {},
   "cell_type": "markdown",
   "id": "09ab13ef",
   "metadata": {
    "papermill": {
     "duration": 0.066735,
     "end_time": "2021-06-04T13:13:24.755774",
     "exception": false,
     "start_time": "2021-06-04T13:13:24.689039",
     "status": "completed"
    },
    "tags": []
   },
   "source": [
    "The main takeaway is:\n",
    "* Temperature heavily influence the volume of rides in the month."
   ]
  },
  {
   "attachments": {},
   "cell_type": "markdown",
   "id": "4dbe00f8",
   "metadata": {
    "execution": {
     "iopub.execute_input": "2021-05-28T12:51:50.881644Z",
     "iopub.status.busy": "2021-05-28T12:51:50.879622Z",
     "iopub.status.idle": "2021-05-28T12:51:50.894523Z"
    },
    "papermill": {
     "duration": 0.066041,
     "end_time": "2021-06-04T13:13:24.887493",
     "exception": false,
     "start_time": "2021-06-04T13:13:24.821452",
     "status": "completed"
    },
    "tags": []
   },
   "source": [
    "<a id=\"analyze-code-data-weekday\"></a>\n",
    "#### Weekday\n",
    "How much of the data is distributed by weekday?"
   ]
  },
  {
   "cell_type": "code",
   "execution_count": 19,
   "id": "c7fe3466",
   "metadata": {
    "execution": {
     "iopub.execute_input": "2021-06-04T13:13:25.029493Z",
     "iopub.status.busy": "2021-06-04T13:13:25.027594Z",
     "iopub.status.idle": "2021-06-04T13:13:25.206337Z",
     "shell.execute_reply": "2021-06-04T13:13:25.204517Z"
    },
    "papermill": {
     "duration": 0.252656,
     "end_time": "2021-06-04T13:13:25.206590",
     "exception": false,
     "start_time": "2021-06-04T13:13:24.953934",
     "status": "completed"
    },
    "tags": [],
    "vscode": {
     "languageId": "r"
    }
   },
   "outputs": [
    {
     "data": {
      "text/html": [
       "<table class=\"dataframe\">\n",
       "<caption>A tibble: 7 × 6</caption>\n",
       "<thead>\n",
       "\t<tr><th scope=col>weekday</th><th scope=col>count</th><th scope=col>%</th><th scope=col>members_p</th><th scope=col>casual_p</th><th scope=col>Member x Casual Perc Difer</th></tr>\n",
       "\t<tr><th scope=col>&lt;chr&gt;</th><th scope=col>&lt;int&gt;</th><th scope=col>&lt;dbl&gt;</th><th scope=col>&lt;dbl&gt;</th><th scope=col>&lt;dbl&gt;</th><th scope=col>&lt;dbl&gt;</th></tr>\n",
       "</thead>\n",
       "<tbody>\n",
       "\t<tr><td>1 - Mon</td><td>420613</td><td>12.05354</td><td>63.73911</td><td>36.26089</td><td>27.4782282</td></tr>\n",
       "\t<tr><td>2 - Tue</td><td>431131</td><td>12.35496</td><td>66.16898</td><td>33.83102</td><td>32.3379669</td></tr>\n",
       "\t<tr><td>3 - Wed</td><td>464879</td><td>13.32207</td><td>65.85563</td><td>34.14437</td><td>31.7112625</td></tr>\n",
       "\t<tr><td>4 - Thu</td><td>467450</td><td>13.39575</td><td>64.44368</td><td>35.55632</td><td>28.8873676</td></tr>\n",
       "\t<tr><td>5 - Fri</td><td>513585</td><td>14.71785</td><td>59.80140</td><td>40.19860</td><td>19.6027921</td></tr>\n",
       "\t<tr><td>6 - Sat</td><td>659637</td><td>18.90327</td><td>49.16628</td><td>50.83372</td><td>-1.6674322</td></tr>\n",
       "\t<tr><td>7 - Sun</td><td>532244</td><td>15.25256</td><td>50.16064</td><td>49.83936</td><td> 0.3212812</td></tr>\n",
       "</tbody>\n",
       "</table>\n"
      ],
      "text/latex": [
       "A tibble: 7 × 6\n",
       "\\begin{tabular}{llllll}\n",
       " weekday & count & \\% & members\\_p & casual\\_p & Member x Casual Perc Difer\\\\\n",
       " <chr> & <int> & <dbl> & <dbl> & <dbl> & <dbl>\\\\\n",
       "\\hline\n",
       "\t 1 - Mon & 420613 & 12.05354 & 63.73911 & 36.26089 & 27.4782282\\\\\n",
       "\t 2 - Tue & 431131 & 12.35496 & 66.16898 & 33.83102 & 32.3379669\\\\\n",
       "\t 3 - Wed & 464879 & 13.32207 & 65.85563 & 34.14437 & 31.7112625\\\\\n",
       "\t 4 - Thu & 467450 & 13.39575 & 64.44368 & 35.55632 & 28.8873676\\\\\n",
       "\t 5 - Fri & 513585 & 14.71785 & 59.80140 & 40.19860 & 19.6027921\\\\\n",
       "\t 6 - Sat & 659637 & 18.90327 & 49.16628 & 50.83372 & -1.6674322\\\\\n",
       "\t 7 - Sun & 532244 & 15.25256 & 50.16064 & 49.83936 &  0.3212812\\\\\n",
       "\\end{tabular}\n"
      ],
      "text/markdown": [
       "\n",
       "A tibble: 7 × 6\n",
       "\n",
       "| weekday &lt;chr&gt; | count &lt;int&gt; | % &lt;dbl&gt; | members_p &lt;dbl&gt; | casual_p &lt;dbl&gt; | Member x Casual Perc Difer &lt;dbl&gt; |\n",
       "|---|---|---|---|---|---|\n",
       "| 1 - Mon | 420613 | 12.05354 | 63.73911 | 36.26089 | 27.4782282 |\n",
       "| 2 - Tue | 431131 | 12.35496 | 66.16898 | 33.83102 | 32.3379669 |\n",
       "| 3 - Wed | 464879 | 13.32207 | 65.85563 | 34.14437 | 31.7112625 |\n",
       "| 4 - Thu | 467450 | 13.39575 | 64.44368 | 35.55632 | 28.8873676 |\n",
       "| 5 - Fri | 513585 | 14.71785 | 59.80140 | 40.19860 | 19.6027921 |\n",
       "| 6 - Sat | 659637 | 18.90327 | 49.16628 | 50.83372 | -1.6674322 |\n",
       "| 7 - Sun | 532244 | 15.25256 | 50.16064 | 49.83936 |  0.3212812 |\n",
       "\n"
      ],
      "text/plain": [
       "  weekday count  %        members_p casual_p Member x Casual Perc Difer\n",
       "1 1 - Mon 420613 12.05354 63.73911  36.26089 27.4782282                \n",
       "2 2 - Tue 431131 12.35496 66.16898  33.83102 32.3379669                \n",
       "3 3 - Wed 464879 13.32207 65.85563  34.14437 31.7112625                \n",
       "4 4 - Thu 467450 13.39575 64.44368  35.55632 28.8873676                \n",
       "5 5 - Fri 513585 14.71785 59.80140  40.19860 19.6027921                \n",
       "6 6 - Sat 659637 18.90327 49.16628  50.83372 -1.6674322                \n",
       "7 7 - Sun 532244 15.25256 50.16064  49.83936  0.3212812                "
      ]
     },
     "metadata": {},
     "output_type": "display_data"
    }
   ],
   "source": [
    "cyclistic %>%\n",
    "    group_by(weekday) %>% \n",
    "    summarise(count = length(ride_id),\n",
    "              '%' = (length(ride_id) / nrow(cyclistic)) * 100,\n",
    "              'members_p' = (sum(member_casual == \"member\") / length(ride_id)) * 100,\n",
    "              'casual_p' = (sum(member_casual == \"casual\") / length(ride_id)) * 100,\n",
    "              'Member x Casual Perc Difer' = members_p - casual_p)"
   ]
  },
  {
   "cell_type": "code",
   "execution_count": 20,
   "id": "c9280178",
   "metadata": {
    "execution": {
     "iopub.execute_input": "2021-06-04T13:13:25.352291Z",
     "iopub.status.busy": "2021-06-04T13:13:25.350094Z",
     "iopub.status.idle": "2021-06-04T13:13:37.344219Z",
     "shell.execute_reply": "2021-06-04T13:13:37.342343Z"
    },
    "papermill": {
     "duration": 12.067505,
     "end_time": "2021-06-04T13:13:37.344513",
     "exception": false,
     "start_time": "2021-06-04T13:13:25.277008",
     "status": "completed"
    },
    "tags": [],
    "vscode": {
     "languageId": "r"
    }
   },
   "outputs": [
    {
     "data": {
      "image/png": "[encoded data removed]"
     },
     "metadata": {
      "image/png": {
       "height": 480,
       "width": 960
      }
     },
     "output_type": "display_data"
    }
   ],
   "source": [
    "ggplot(cyclistic, aes(weekday, fill=member_casual)) +\n",
    "    geom_bar() +\n",
    "    labs(x=\"Weekdady\", title=\"Chart 03 - Distribution by weekday\") +\n",
    "    coord_flip()"
   ]
  },
  {
   "attachments": {},
   "cell_type": "markdown",
   "id": "e4a9d2f9",
   "metadata": {
    "papermill": {
     "duration": 0.069214,
     "end_time": "2021-06-04T13:13:37.484068",
     "exception": false,
     "start_time": "2021-06-04T13:13:37.414854",
     "status": "completed"
    },
    "tags": []
   },
   "source": [
    "It's interesting to see:\n",
    "* The biggest volume of data is on the weekend.\n",
    "* Saturday has the biggest data points.\n",
    "* Members may have the biggest volume of data, besides on saturday. On this weekday, casual take place as having most data points.\n",
    "* Weekends have the biggest volume of casual, starting on friday, a ~20% increase."
   ]
  },
  {
   "attachments": {},
   "cell_type": "markdown",
   "id": "dc9a00f9",
   "metadata": {
    "papermill": {
     "duration": 0.07005,
     "end_time": "2021-06-04T13:13:37.623400",
     "exception": false,
     "start_time": "2021-06-04T13:13:37.553350",
     "status": "completed"
    },
    "tags": []
   },
   "source": [
    "<a id=\"analyze-code-data-hour\"></a>\n",
    "#### Hour of the day"
   ]
  },
  {
   "cell_type": "code",
   "execution_count": 21,
   "id": "c9506506",
   "metadata": {
    "execution": {
     "iopub.execute_input": "2021-06-04T13:13:37.767049Z",
     "iopub.status.busy": "2021-06-04T13:13:37.765240Z",
     "iopub.status.idle": "2021-06-04T13:13:37.990749Z",
     "shell.execute_reply": "2021-06-04T13:13:37.989277Z"
    },
    "papermill": {
     "duration": 0.299373,
     "end_time": "2021-06-04T13:13:37.990957",
     "exception": false,
     "start_time": "2021-06-04T13:13:37.691584",
     "status": "completed"
    },
    "tags": [],
    "vscode": {
     "languageId": "r"
    }
   },
   "outputs": [
    {
     "data": {
      "text/html": [
       "<table class=\"dataframe\">\n",
       "<caption>A tibble: 24 × 6</caption>\n",
       "<thead>\n",
       "\t<tr><th scope=col>start_hour</th><th scope=col>count</th><th scope=col>%</th><th scope=col>members_p</th><th scope=col>casual_p</th><th scope=col>member_casual_perc_difer</th></tr>\n",
       "\t<tr><th scope=col>&lt;chr&gt;</th><th scope=col>&lt;int&gt;</th><th scope=col>&lt;dbl&gt;</th><th scope=col>&lt;dbl&gt;</th><th scope=col>&lt;dbl&gt;</th><th scope=col>&lt;dbl&gt;</th></tr>\n",
       "</thead>\n",
       "<tbody>\n",
       "\t<tr><td>00</td><td> 41924</td><td> 1.2014194</td><td>33.39853</td><td>66.60147</td><td>-33.202939</td></tr>\n",
       "\t<tr><td>01</td><td> 26372</td><td> 0.7557445</td><td>29.46686</td><td>70.53314</td><td>-41.066282</td></tr>\n",
       "\t<tr><td>02</td><td> 15386</td><td> 0.4409178</td><td>27.46653</td><td>72.53347</td><td>-45.066944</td></tr>\n",
       "\t<tr><td>03</td><td>  9038</td><td> 0.2590027</td><td>27.63886</td><td>72.36114</td><td>-44.722284</td></tr>\n",
       "\t<tr><td>04</td><td>  7391</td><td> 0.2118045</td><td>41.25288</td><td>58.74712</td><td>-17.494250</td></tr>\n",
       "\t<tr><td>05</td><td> 17987</td><td> 0.5154549</td><td>74.99861</td><td>25.00139</td><td> 49.997220</td></tr>\n",
       "\t<tr><td>06</td><td> 56915</td><td> 1.6310177</td><td>81.50751</td><td>18.49249</td><td> 63.015022</td></tr>\n",
       "\t<tr><td>07</td><td>106045</td><td> 3.0389401</td><td>81.58706</td><td>18.41294</td><td> 63.174124</td></tr>\n",
       "\t<tr><td>08</td><td>133253</td><td> 3.8186419</td><td>78.41399</td><td>21.58601</td><td> 56.827989</td></tr>\n",
       "\t<tr><td>09</td><td>123699</td><td> 3.5448522</td><td>72.02403</td><td>27.97597</td><td> 44.048052</td></tr>\n",
       "\t<tr><td>10</td><td>136067</td><td> 3.8992830</td><td>65.53316</td><td>34.46684</td><td> 31.066313</td></tr>\n",
       "\t<tr><td>11</td><td>175790</td><td> 5.0376282</td><td>61.92161</td><td>38.07839</td><td> 23.843222</td></tr>\n",
       "\t<tr><td>12</td><td>222341</td><td> 6.3716439</td><td>60.23585</td><td>39.76415</td><td> 20.471708</td></tr>\n",
       "\t<tr><td>13</td><td>235068</td><td> 6.7363626</td><td>57.68629</td><td>42.31371</td><td> 15.372573</td></tr>\n",
       "\t<tr><td>14</td><td>242837</td><td> 6.9589995</td><td>55.76992</td><td>44.23008</td><td> 11.539839</td></tr>\n",
       "\t<tr><td>15</td><td>264763</td><td> 7.5873346</td><td>55.58518</td><td>44.41482</td><td> 11.170367</td></tr>\n",
       "\t<tr><td>16</td><td>298020</td><td> 8.5403831</td><td>57.83605</td><td>42.16395</td><td> 15.672103</td></tr>\n",
       "\t<tr><td>17</td><td>349360</td><td>10.0116376</td><td>60.23643</td><td>39.76357</td><td> 20.472865</td></tr>\n",
       "\t<tr><td>18</td><td>333746</td><td> 9.5641860</td><td>59.53480</td><td>40.46520</td><td> 19.069592</td></tr>\n",
       "\t<tr><td>19</td><td>254651</td><td> 7.2975542</td><td>56.86646</td><td>43.13354</td><td> 13.732913</td></tr>\n",
       "\t<tr><td>20</td><td>175658</td><td> 5.0338454</td><td>53.05822</td><td>46.94178</td><td>  6.116431</td></tr>\n",
       "\t<tr><td>21</td><td>113455</td><td> 3.2512891</td><td>48.69331</td><td>51.30669</td><td> -2.613371</td></tr>\n",
       "\t<tr><td>22</td><td> 84132</td><td> 2.4109775</td><td>43.85489</td><td>56.14511</td><td>-12.290211</td></tr>\n",
       "\t<tr><td>23</td><td> 65641</td><td> 1.8810794</td><td>39.39154</td><td>60.60846</td><td>-21.216922</td></tr>\n",
       "</tbody>\n",
       "</table>\n"
      ],
      "text/latex": [
       "A tibble: 24 × 6\n",
       "\\begin{tabular}{llllll}\n",
       " start\\_hour & count & \\% & members\\_p & casual\\_p & member\\_casual\\_perc\\_difer\\\\\n",
       " <chr> & <int> & <dbl> & <dbl> & <dbl> & <dbl>\\\\\n",
       "\\hline\n",
       "\t 00 &  41924 &  1.2014194 & 33.39853 & 66.60147 & -33.202939\\\\\n",
       "\t 01 &  26372 &  0.7557445 & 29.46686 & 70.53314 & -41.066282\\\\\n",
       "\t 02 &  15386 &  0.4409178 & 27.46653 & 72.53347 & -45.066944\\\\\n",
       "\t 03 &   9038 &  0.2590027 & 27.63886 & 72.36114 & -44.722284\\\\\n",
       "\t 04 &   7391 &  0.2118045 & 41.25288 & 58.74712 & -17.494250\\\\\n",
       "\t 05 &  17987 &  0.5154549 & 74.99861 & 25.00139 &  49.997220\\\\\n",
       "\t 06 &  56915 &  1.6310177 & 81.50751 & 18.49249 &  63.015022\\\\\n",
       "\t 07 & 106045 &  3.0389401 & 81.58706 & 18.41294 &  63.174124\\\\\n",
       "\t 08 & 133253 &  3.8186419 & 78.41399 & 21.58601 &  56.827989\\\\\n",
       "\t 09 & 123699 &  3.5448522 & 72.02403 & 27.97597 &  44.048052\\\\\n",
       "\t 10 & 136067 &  3.8992830 & 65.53316 & 34.46684 &  31.066313\\\\\n",
       "\t 11 & 175790 &  5.0376282 & 61.92161 & 38.07839 &  23.843222\\\\\n",
       "\t 12 & 222341 &  6.3716439 & 60.23585 & 39.76415 &  20.471708\\\\\n",
       "\t 13 & 235068 &  6.7363626 & 57.68629 & 42.31371 &  15.372573\\\\\n",
       "\t 14 & 242837 &  6.9589995 & 55.76992 & 44.23008 &  11.539839\\\\\n",
       "\t 15 & 264763 &  7.5873346 & 55.58518 & 44.41482 &  11.170367\\\\\n",
       "\t 16 & 298020 &  8.5403831 & 57.83605 & 42.16395 &  15.672103\\\\\n",
       "\t 17 & 349360 & 10.0116376 & 60.23643 & 39.76357 &  20.472865\\\\\n",
       "\t 18 & 333746 &  9.5641860 & 59.53480 & 40.46520 &  19.069592\\\\\n",
       "\t 19 & 254651 &  7.2975542 & 56.86646 & 43.13354 &  13.732913\\\\\n",
       "\t 20 & 175658 &  5.0338454 & 53.05822 & 46.94178 &   6.116431\\\\\n",
       "\t 21 & 113455 &  3.2512891 & 48.69331 & 51.30669 &  -2.613371\\\\\n",
       "\t 22 &  84132 &  2.4109775 & 43.85489 & 56.14511 & -12.290211\\\\\n",
       "\t 23 &  65641 &  1.8810794 & 39.39154 & 60.60846 & -21.216922\\\\\n",
       "\\end{tabular}\n"
      ],
      "text/markdown": [
       "\n",
       "A tibble: 24 × 6\n",
       "\n",
       "| start_hour &lt;chr&gt; | count &lt;int&gt; | % &lt;dbl&gt; | members_p &lt;dbl&gt; | casual_p &lt;dbl&gt; | member_casual_perc_difer &lt;dbl&gt; |\n",
       "|---|---|---|---|---|---|\n",
       "| 00 |  41924 |  1.2014194 | 33.39853 | 66.60147 | -33.202939 |\n",
       "| 01 |  26372 |  0.7557445 | 29.46686 | 70.53314 | -41.066282 |\n",
       "| 02 |  15386 |  0.4409178 | 27.46653 | 72.53347 | -45.066944 |\n",
       "| 03 |   9038 |  0.2590027 | 27.63886 | 72.36114 | -44.722284 |\n",
       "| 04 |   7391 |  0.2118045 | 41.25288 | 58.74712 | -17.494250 |\n",
       "| 05 |  17987 |  0.5154549 | 74.99861 | 25.00139 |  49.997220 |\n",
       "| 06 |  56915 |  1.6310177 | 81.50751 | 18.49249 |  63.015022 |\n",
       "| 07 | 106045 |  3.0389401 | 81.58706 | 18.41294 |  63.174124 |\n",
       "| 08 | 133253 |  3.8186419 | 78.41399 | 21.58601 |  56.827989 |\n",
       "| 09 | 123699 |  3.5448522 | 72.02403 | 27.97597 |  44.048052 |\n",
       "| 10 | 136067 |  3.8992830 | 65.53316 | 34.46684 |  31.066313 |\n",
       "| 11 | 175790 |  5.0376282 | 61.92161 | 38.07839 |  23.843222 |\n",
       "| 12 | 222341 |  6.3716439 | 60.23585 | 39.76415 |  20.471708 |\n",
       "| 13 | 235068 |  6.7363626 | 57.68629 | 42.31371 |  15.372573 |\n",
       "| 14 | 242837 |  6.9589995 | 55.76992 | 44.23008 |  11.539839 |\n",
       "| 15 | 264763 |  7.5873346 | 55.58518 | 44.41482 |  11.170367 |\n",
       "| 16 | 298020 |  8.5403831 | 57.83605 | 42.16395 |  15.672103 |\n",
       "| 17 | 349360 | 10.0116376 | 60.23643 | 39.76357 |  20.472865 |\n",
       "| 18 | 333746 |  9.5641860 | 59.53480 | 40.46520 |  19.069592 |\n",
       "| 19 | 254651 |  7.2975542 | 56.86646 | 43.13354 |  13.732913 |\n",
       "| 20 | 175658 |  5.0338454 | 53.05822 | 46.94178 |   6.116431 |\n",
       "| 21 | 113455 |  3.2512891 | 48.69331 | 51.30669 |  -2.613371 |\n",
       "| 22 |  84132 |  2.4109775 | 43.85489 | 56.14511 | -12.290211 |\n",
       "| 23 |  65641 |  1.8810794 | 39.39154 | 60.60846 | -21.216922 |\n",
       "\n"
      ],
      "text/plain": [
       "   start_hour count  %          members_p casual_p member_casual_perc_difer\n",
       "1  00          41924  1.2014194 33.39853  66.60147 -33.202939              \n",
       "2  01          26372  0.7557445 29.46686  70.53314 -41.066282              \n",
       "3  02          15386  0.4409178 27.46653  72.53347 -45.066944              \n",
       "4  03           9038  0.2590027 27.63886  72.36114 -44.722284              \n",
       "5  04           7391  0.2118045 41.25288  58.74712 -17.494250              \n",
       "6  05          17987  0.5154549 74.99861  25.00139  49.997220              \n",
       "7  06          56915  1.6310177 81.50751  18.49249  63.015022              \n",
       "8  07         106045  3.0389401 81.58706  18.41294  63.174124              \n",
       "9  08         133253  3.8186419 78.41399  21.58601  56.827989              \n",
       "10 09         123699  3.5448522 72.02403  27.97597  44.048052              \n",
       "11 10         136067  3.8992830 65.53316  34.46684  31.066313              \n",
       "12 11         175790  5.0376282 61.92161  38.07839  23.843222              \n",
       "13 12         222341  6.3716439 60.23585  39.76415  20.471708              \n",
       "14 13         235068  6.7363626 57.68629  42.31371  15.372573              \n",
       "15 14         242837  6.9589995 55.76992  44.23008  11.539839              \n",
       "16 15         264763  7.5873346 55.58518  44.41482  11.170367              \n",
       "17 16         298020  8.5403831 57.83605  42.16395  15.672103              \n",
       "18 17         349360 10.0116376 60.23643  39.76357  20.472865              \n",
       "19 18         333746  9.5641860 59.53480  40.46520  19.069592              \n",
       "20 19         254651  7.2975542 56.86646  43.13354  13.732913              \n",
       "21 20         175658  5.0338454 53.05822  46.94178   6.116431              \n",
       "22 21         113455  3.2512891 48.69331  51.30669  -2.613371              \n",
       "23 22          84132  2.4109775 43.85489  56.14511 -12.290211              \n",
       "24 23          65641  1.8810794 39.39154  60.60846 -21.216922              "
      ]
     },
     "metadata": {},
     "output_type": "display_data"
    }
   ],
   "source": [
    "cyclistic %>%\n",
    "    group_by(start_hour) %>% \n",
    "    summarise(count = length(ride_id),\n",
    "          '%' = (length(ride_id) / nrow(cyclistic)) * 100,\n",
    "          'members_p' = (sum(member_casual == \"member\") / length(ride_id)) * 100,\n",
    "          'casual_p' = (sum(member_casual == \"casual\") / length(ride_id)) * 100,\n",
    "          'member_casual_perc_difer' = members_p - casual_p)"
   ]
  },
  {
   "cell_type": "code",
   "execution_count": 22,
   "id": "b1155fb1",
   "metadata": {
    "execution": {
     "iopub.execute_input": "2021-06-04T13:13:38.137783Z",
     "iopub.status.busy": "2021-06-04T13:13:38.135776Z",
     "iopub.status.idle": "2021-06-04T13:13:43.325218Z",
     "shell.execute_reply": "2021-06-04T13:13:43.323132Z"
    },
    "papermill": {
     "duration": 5.2654,
     "end_time": "2021-06-04T13:13:43.325542",
     "exception": false,
     "start_time": "2021-06-04T13:13:38.060142",
     "status": "completed"
    },
    "tags": [],
    "vscode": {
     "languageId": "r"
    }
   },
   "outputs": [
    {
     "data": {
      "image/png": "[encoded data removed]"
     },
     "metadata": {
      "image/png": {
       "height": 480,
       "width": 960
      }
     },
     "output_type": "display_data"
    }
   ],
   "source": [
    "cyclistic %>%\n",
    "    ggplot(aes(start_hour, fill=member_casual)) +\n",
    "    labs(x=\"Hour of the day\", title=\"Chart 04 - Distribution by hour of the day\") +\n",
    "    geom_bar()"
   ]
  },
  {
   "attachments": {},
   "cell_type": "markdown",
   "id": "557dda41",
   "metadata": {
    "papermill": {
     "duration": 0.070914,
     "end_time": "2021-06-04T13:13:43.470188",
     "exception": false,
     "start_time": "2021-06-04T13:13:43.399274",
     "status": "completed"
    },
    "tags": []
   },
   "source": [
    "From this chart, we can see:\n",
    "* There's a bigger volume of bikers in the afternoon.\n",
    "* We have more members during the morning, mainly in between 5am and 11am\n",
    "* And more casuals between 11pm and 4am\n",
    "\n",
    "This chart can be expanded ween seen it divided by day of the week."
   ]
  },
  {
   "cell_type": "code",
   "execution_count": 23,
   "id": "6fe3064c",
   "metadata": {
    "execution": {
     "iopub.execute_input": "2021-06-04T13:13:43.624954Z",
     "iopub.status.busy": "2021-06-04T13:13:43.622855Z",
     "iopub.status.idle": "2021-06-04T13:13:53.308313Z",
     "shell.execute_reply": "2021-06-04T13:13:53.306734Z"
    },
    "papermill": {
     "duration": 9.766146,
     "end_time": "2021-06-04T13:13:53.308964",
     "exception": false,
     "start_time": "2021-06-04T13:13:43.542818",
     "status": "completed"
    },
    "tags": [],
    "vscode": {
     "languageId": "r"
    }
   },
   "outputs": [
    {
     "data": {
      "image/png": "[encoded data removed]"
     },
     "metadata": {
      "image/png": {
       "height": 480,
       "width": 960
      }
     },
     "output_type": "display_data"
    }
   ],
   "source": [
    "cyclistic %>%\n",
    "    ggplot(aes(start_hour, fill=member_casual)) +\n",
    "    geom_bar() +\n",
    "    labs(x=\"Hour of the day\", title=\"Chart 05 - Distribution by hour of the day divided by weekday\") +\n",
    "    facet_wrap(~ weekday)"
   ]
  },
  {
   "attachments": {},
   "cell_type": "markdown",
   "id": "02f94070",
   "metadata": {
    "papermill": {
     "duration": 0.075006,
     "end_time": "2021-06-04T13:13:53.463124",
     "exception": false,
     "start_time": "2021-06-04T13:13:53.388118",
     "status": "completed"
    },
    "tags": []
   },
   "source": [
    "There's a clear diferrence between the midweek and weekends. Let's generate charts for this two configurations."
   ]
  },
  {
   "cell_type": "code",
   "execution_count": 24,
   "id": "854fbb2b",
   "metadata": {
    "execution": {
     "iopub.execute_input": "2021-06-04T13:13:53.637396Z",
     "iopub.status.busy": "2021-06-04T13:13:53.633765Z",
     "iopub.status.idle": "2021-06-04T13:14:03.909453Z",
     "shell.execute_reply": "2021-06-04T13:14:03.907182Z"
    },
    "papermill": {
     "duration": 10.372727,
     "end_time": "2021-06-04T13:14:03.909735",
     "exception": false,
     "start_time": "2021-06-04T13:13:53.537008",
     "status": "completed"
    },
    "tags": [],
    "vscode": {
     "languageId": "r"
    }
   },
   "outputs": [
    {
     "data": {
      "image/png": "[encoded data removed]"
     },
     "metadata": {
      "image/png": {
       "height": 480,
       "width": 960
      }
     },
     "output_type": "display_data"
    }
   ],
   "source": [
    "cyclistic %>%\n",
    "    mutate(type_of_weekday = ifelse(weekday == '6 - Sat' | weekday == '7 - Sun',\n",
    "                                   'weekend',\n",
    "                                   'midweek')) %>%\n",
    "    ggplot(aes(start_hour, fill=member_casual)) +\n",
    "    labs(x=\"Hour of the day\", title=\"Chart 06 - Distribution by hour of the day in the midweek\") +\n",
    "    geom_bar() +\n",
    "    facet_wrap(~ type_of_weekday)\n",
    "    "
   ]
  },
  {
   "attachments": {},
   "cell_type": "markdown",
   "id": "5d243890",
   "metadata": {
    "papermill": {
     "duration": 0.077692,
     "end_time": "2021-06-04T13:14:04.065442",
     "exception": false,
     "start_time": "2021-06-04T13:14:03.987750",
     "status": "completed"
    },
    "tags": []
   },
   "source": [
    "The two plots differs on some key ways:\n",
    "* While the weekends have a smooth flow of data points, the midweek have a more steep flow of data.\n",
    "* The count of data points doesn't have much meaning knowing each plot represents a different amount of days.\n",
    "* There's a big increase of data points in the midween between 6am to 8am. Then it fall a bit.\n",
    "* Another big increase is from 5pm to 6pm.\n",
    "* During the weekend we have a bigger flow of casuals between 11am to 6pm.\n",
    "\n",
    "It's fundamental to question who are the riders who use the bikes during this time of day.\n",
    "We can assume some factors, one is that members may are people who use the bikes during they \n",
    "daily routine activities, like go to work (data points between 5am to 8am in midweek), go back from work (data points between 5pm to 6pm).\n"
   ]
  },
  {
   "attachments": {},
   "cell_type": "markdown",
   "id": "e50bcf8d",
   "metadata": {
    "papermill": {
     "duration": 0.082799,
     "end_time": "2021-06-04T13:14:04.229116",
     "exception": false,
     "start_time": "2021-06-04T13:14:04.146317",
     "status": "completed"
    },
    "tags": []
   },
   "source": [
    "<a id=\"analyze-code-data-rideable\"></a>\n",
    "#### Rideable type"
   ]
  },
  {
   "cell_type": "code",
   "execution_count": 25,
   "id": "04822c6d",
   "metadata": {
    "execution": {
     "iopub.execute_input": "2021-06-04T13:14:04.388483Z",
     "iopub.status.busy": "2021-06-04T13:14:04.385923Z",
     "iopub.status.idle": "2021-06-04T13:14:06.172547Z",
     "shell.execute_reply": "2021-06-04T13:14:06.170095Z"
    },
    "papermill": {
     "duration": 1.868064,
     "end_time": "2021-06-04T13:14:06.172772",
     "exception": false,
     "start_time": "2021-06-04T13:14:04.304708",
     "status": "completed"
    },
    "tags": [],
    "vscode": {
     "languageId": "r"
    }
   },
   "outputs": [
    {
     "data": {
      "text/html": [
       "<table class=\"dataframe\">\n",
       "<caption>A tibble: 3 × 6</caption>\n",
       "<thead>\n",
       "\t<tr><th scope=col>rideable_type</th><th scope=col>count</th><th scope=col>%</th><th scope=col>members_p</th><th scope=col>casual_p</th><th scope=col>member_casual_perc_difer</th></tr>\n",
       "\t<tr><th scope=col>&lt;fct&gt;</th><th scope=col>&lt;int&gt;</th><th scope=col>&lt;dbl&gt;</th><th scope=col>&lt;dbl&gt;</th><th scope=col>&lt;dbl&gt;</th><th scope=col>&lt;dbl&gt;</th></tr>\n",
       "</thead>\n",
       "<tbody>\n",
       "\t<tr><td>docked_bike  </td><td>2558260</td><td>73.312263</td><td>56.35479</td><td>43.64521</td><td>12.70958</td></tr>\n",
       "\t<tr><td>electric_bike</td><td> 611406</td><td>17.521111</td><td>60.25685</td><td>39.74315</td><td>20.51370</td></tr>\n",
       "\t<tr><td>classic_bike </td><td> 319873</td><td> 9.166626</td><td>77.86590</td><td>22.13410</td><td>55.73181</td></tr>\n",
       "</tbody>\n",
       "</table>\n"
      ],
      "text/latex": [
       "A tibble: 3 × 6\n",
       "\\begin{tabular}{llllll}\n",
       " rideable\\_type & count & \\% & members\\_p & casual\\_p & member\\_casual\\_perc\\_difer\\\\\n",
       " <fct> & <int> & <dbl> & <dbl> & <dbl> & <dbl>\\\\\n",
       "\\hline\n",
       "\t docked\\_bike   & 2558260 & 73.312263 & 56.35479 & 43.64521 & 12.70958\\\\\n",
       "\t electric\\_bike &  611406 & 17.521111 & 60.25685 & 39.74315 & 20.51370\\\\\n",
       "\t classic\\_bike  &  319873 &  9.166626 & 77.86590 & 22.13410 & 55.73181\\\\\n",
       "\\end{tabular}\n"
      ],
      "text/markdown": [
       "\n",
       "A tibble: 3 × 6\n",
       "\n",
       "| rideable_type &lt;fct&gt; | count &lt;int&gt; | % &lt;dbl&gt; | members_p &lt;dbl&gt; | casual_p &lt;dbl&gt; | member_casual_perc_difer &lt;dbl&gt; |\n",
       "|---|---|---|---|---|---|\n",
       "| docked_bike   | 2558260 | 73.312263 | 56.35479 | 43.64521 | 12.70958 |\n",
       "| electric_bike |  611406 | 17.521111 | 60.25685 | 39.74315 | 20.51370 |\n",
       "| classic_bike  |  319873 |  9.166626 | 77.86590 | 22.13410 | 55.73181 |\n",
       "\n"
      ],
      "text/plain": [
       "  rideable_type count   %         members_p casual_p member_casual_perc_difer\n",
       "1 docked_bike   2558260 73.312263 56.35479  43.64521 12.70958                \n",
       "2 electric_bike  611406 17.521111 60.25685  39.74315 20.51370                \n",
       "3 classic_bike   319873  9.166626 77.86590  22.13410 55.73181                "
      ]
     },
     "metadata": {},
     "output_type": "display_data"
    }
   ],
   "source": [
    "cyclistic %>%\n",
    "    group_by(rideable_type) %>% \n",
    "    summarise(count = length(ride_id),\n",
    "          '%' = (length(ride_id) / nrow(cyclistic)) * 100,\n",
    "          'members_p' = (sum(member_casual == \"member\") / length(ride_id)) * 100,\n",
    "          'casual_p' = (sum(member_casual == \"casual\") / length(ride_id)) * 100,\n",
    "          'member_casual_perc_difer' = members_p - casual_p)"
   ]
  },
  {
   "cell_type": "code",
   "execution_count": 26,
   "id": "d60ec5f6",
   "metadata": {
    "execution": {
     "iopub.execute_input": "2021-06-04T13:14:06.338070Z",
     "iopub.status.busy": "2021-06-04T13:14:06.336071Z",
     "iopub.status.idle": "2021-06-04T13:14:11.068824Z",
     "shell.execute_reply": "2021-06-04T13:14:11.066304Z"
    },
    "papermill": {
     "duration": 4.817066,
     "end_time": "2021-06-04T13:14:11.069257",
     "exception": false,
     "start_time": "2021-06-04T13:14:06.252191",
     "status": "completed"
    },
    "tags": [],
    "vscode": {
     "languageId": "r"
    }
   },
   "outputs": [
    {
     "data": {
      "image/png": "[encoded data removed]"
     },
     "metadata": {
      "image/png": {
       "height": 480,
       "width": 960
      }
     },
     "output_type": "display_data"
    }
   ],
   "source": [
    "ggplot(cyclistic, aes(rideable_type, fill=member_casual)) +\n",
    "    labs(x=\"Rideable type\", title=\"Chart 07 - Distribution of types of bikes\") +\n",
    "    geom_bar() +\n",
    "    coord_flip()"
   ]
  },
  {
   "attachments": {},
   "cell_type": "markdown",
   "id": "474dc70f",
   "metadata": {
    "papermill": {
     "duration": 0.080207,
     "end_time": "2021-06-04T13:14:11.232991",
     "exception": false,
     "start_time": "2021-06-04T13:14:11.152784",
     "status": "completed"
    },
    "tags": []
   },
   "source": [
    "It's important to note that:\n",
    "* Docked bikes have the biggest volume of rides, but this can be that the company may have more docked bikes.\n",
    "* Members have a bigger preference for classic bikes, 56% more.\n",
    "* Also for electric bikes."
   ]
  },
  {
   "attachments": {},
   "cell_type": "markdown",
   "id": "030830f6",
   "metadata": {
    "execution": {
     "iopub.execute_input": "2021-05-30T14:38:02.950975Z",
     "iopub.status.busy": "2021-05-30T14:38:02.949032Z",
     "iopub.status.idle": "2021-05-30T14:38:02.963205Z"
    },
    "papermill": {
     "duration": 0.084573,
     "end_time": "2021-06-04T13:14:11.400649",
     "exception": false,
     "start_time": "2021-06-04T13:14:11.316076",
     "status": "completed"
    },
    "tags": []
   },
   "source": [
    "<a id=\"analyze-code-other\"></a>\n",
    "### Other variables\n",
    "\n",
    "Now let's get a look at some variables of the dataset."
   ]
  },
  {
   "attachments": {},
   "cell_type": "markdown",
   "id": "cdbb72fd",
   "metadata": {
    "papermill": {
     "duration": 0.08146,
     "end_time": "2021-06-04T13:14:11.560731",
     "exception": false,
     "start_time": "2021-06-04T13:14:11.479271",
     "status": "completed"
    },
    "tags": []
   },
   "source": [
    "<a id=\"analyze-code-other-ride\"></a>\n",
    "#### ride_time_m\n",
    "\n",
    "First get some summarized statistic from the dataset"
   ]
  },
  {
   "cell_type": "code",
   "execution_count": 27,
   "id": "d2e0fbcb",
   "metadata": {
    "execution": {
     "iopub.execute_input": "2021-06-04T13:14:11.734319Z",
     "iopub.status.busy": "2021-06-04T13:14:11.732404Z",
     "iopub.status.idle": "2021-06-04T13:14:12.027196Z",
     "shell.execute_reply": "2021-06-04T13:14:12.025547Z"
    },
    "papermill": {
     "duration": 0.381868,
     "end_time": "2021-06-04T13:14:12.027405",
     "exception": false,
     "start_time": "2021-06-04T13:14:11.645537",
     "status": "completed"
    },
    "tags": [],
    "vscode": {
     "languageId": "r"
    }
   },
   "outputs": [
    {
     "data": {
      "text/plain": [
       "     Min.   1st Qu.    Median      Mean   3rd Qu.      Max. \n",
       "-29049.97      7.88     14.52     26.48     26.63  58720.03 "
      ]
     },
     "metadata": {},
     "output_type": "display_data"
    }
   ],
   "source": [
    "summary(cyclistic$ride_time_m)"
   ]
  },
  {
   "attachments": {},
   "cell_type": "markdown",
   "id": "3eec6410",
   "metadata": {
    "papermill": {
     "duration": 0.0886,
     "end_time": "2021-06-04T13:14:12.198371",
     "exception": false,
     "start_time": "2021-06-04T13:14:12.109771",
     "status": "completed"
    },
    "tags": []
   },
   "source": [
    "The min and the max may be a problem to plot some charts. How the ride time of some bikes is a negative value? Maybe there's some malfunction stations return bad dates.\n",
    "Checking the start and end stations doesn't appear to have a problem."
   ]
  },
  {
   "cell_type": "code",
   "execution_count": 28,
   "id": "a8e481ab",
   "metadata": {
    "execution": {
     "iopub.execute_input": "2021-06-04T13:14:12.373711Z",
     "iopub.status.busy": "2021-06-04T13:14:12.370497Z",
     "iopub.status.idle": "2021-06-04T13:14:12.702855Z",
     "shell.execute_reply": "2021-06-04T13:14:12.700372Z"
    },
    "papermill": {
     "duration": 0.420125,
     "end_time": "2021-06-04T13:14:12.703181",
     "exception": false,
     "start_time": "2021-06-04T13:14:12.283056",
     "status": "completed"
    },
    "tags": [],
    "vscode": {
     "languageId": "r"
    }
   },
   "outputs": [
    {
     "data": {
      "text/html": [
       "<style>\n",
       ".dl-inline {width: auto; margin:0; padding: 0}\n",
       ".dl-inline>dt, .dl-inline>dd {float: none; width: auto; display: inline-block}\n",
       ".dl-inline>dt::after {content: \":\\0020\"; padding-right: .5ex}\n",
       ".dl-inline>dt:not(:first-of-type) {padding-left: .5ex}\n",
       "</style><dl class=dl-inline><dt>0%</dt><dd>-29049.9666666667</dd><dt>5%</dt><dd>3.1</dd><dt>10%</dt><dd>4.51666666666667</dd><dt>15%</dt><dd>5.68333333333333</dd><dt>20%</dt><dd>6.78333333333333</dd><dt>25%</dt><dd>7.88333333333333</dd><dt>30%</dt><dd>9.03333333333333</dd><dt>35%</dt><dd>10.25</dd><dt>40%</dt><dd>11.5333333333333</dd><dt>45%</dt><dd>12.95</dd><dt>50%</dt><dd>14.5166666666667</dd><dt>55%</dt><dd>16.2833333333333</dd><dt>60%</dt><dd>18.3</dd><dt>65%</dt><dd>20.65</dd><dt>70%</dt><dd>23.3933333333349</dd><dt>75%</dt><dd>26.6333333333333</dd><dt>80%</dt><dd>30.5833333333333</dd><dt>85%</dt><dd>36.4</dd><dt>90%</dt><dd>46.1</dd><dt>95%</dt><dd>73.05</dd><dt>100%</dt><dd>58720.0333333333</dd></dl>\n"
      ],
      "text/latex": [
       "\\begin{description*}\n",
       "\\item[0\\textbackslash{}\\%] -29049.9666666667\n",
       "\\item[5\\textbackslash{}\\%] 3.1\n",
       "\\item[10\\textbackslash{}\\%] 4.51666666666667\n",
       "\\item[15\\textbackslash{}\\%] 5.68333333333333\n",
       "\\item[20\\textbackslash{}\\%] 6.78333333333333\n",
       "\\item[25\\textbackslash{}\\%] 7.88333333333333\n",
       "\\item[30\\textbackslash{}\\%] 9.03333333333333\n",
       "\\item[35\\textbackslash{}\\%] 10.25\n",
       "\\item[40\\textbackslash{}\\%] 11.5333333333333\n",
       "\\item[45\\textbackslash{}\\%] 12.95\n",
       "\\item[50\\textbackslash{}\\%] 14.5166666666667\n",
       "\\item[55\\textbackslash{}\\%] 16.2833333333333\n",
       "\\item[60\\textbackslash{}\\%] 18.3\n",
       "\\item[65\\textbackslash{}\\%] 20.65\n",
       "\\item[70\\textbackslash{}\\%] 23.3933333333349\n",
       "\\item[75\\textbackslash{}\\%] 26.6333333333333\n",
       "\\item[80\\textbackslash{}\\%] 30.5833333333333\n",
       "\\item[85\\textbackslash{}\\%] 36.4\n",
       "\\item[90\\textbackslash{}\\%] 46.1\n",
       "\\item[95\\textbackslash{}\\%] 73.05\n",
       "\\item[100\\textbackslash{}\\%] 58720.0333333333\n",
       "\\end{description*}\n"
      ],
      "text/markdown": [
       "0%\n",
       ":   -29049.96666666675%\n",
       ":   3.110%\n",
       ":   4.5166666666666715%\n",
       ":   5.6833333333333320%\n",
       ":   6.7833333333333325%\n",
       ":   7.8833333333333330%\n",
       ":   9.0333333333333335%\n",
       ":   10.2540%\n",
       ":   11.533333333333345%\n",
       ":   12.9550%\n",
       ":   14.516666666666755%\n",
       ":   16.283333333333360%\n",
       ":   18.365%\n",
       ":   20.6570%\n",
       ":   23.393333333334975%\n",
       ":   26.633333333333380%\n",
       ":   30.583333333333385%\n",
       ":   36.490%\n",
       ":   46.195%\n",
       ":   73.05100%\n",
       ":   58720.0333333333\n",
       "\n"
      ],
      "text/plain": [
       "           0%            5%           10%           15%           20% \n",
       "-29049.966667      3.100000      4.516667      5.683333      6.783333 \n",
       "          25%           30%           35%           40%           45% \n",
       "     7.883333      9.033333     10.250000     11.533333     12.950000 \n",
       "          50%           55%           60%           65%           70% \n",
       "    14.516667     16.283333     18.300000     20.650000     23.393333 \n",
       "          75%           80%           85%           90%           95% \n",
       "    26.633333     30.583333     36.400000     46.100000     73.050000 \n",
       "         100% \n",
       " 58720.033333 "
      ]
     },
     "metadata": {},
     "output_type": "display_data"
    }
   ],
   "source": [
    "ventiles = quantile(cyclistic$ride_time_m, seq(0, 1, by=0.05))\n",
    "ventiles"
   ]
  },
  {
   "attachments": {},
   "cell_type": "markdown",
   "id": "26145201",
   "metadata": {
    "papermill": {
     "duration": 0.08694,
     "end_time": "2021-06-04T13:14:12.882783",
     "exception": false,
     "start_time": "2021-06-04T13:14:12.795843",
     "status": "completed"
    },
    "tags": []
   },
   "source": [
    "We can see that:\n",
    "* The difference between 0% and 100% is 87770.0 minutes.\n",
    "* The difference between 5% and 95% is 69.95 minutes.\n",
    "Because of that, in the analysis of this variable we are going to use a subset of the dataset without outliners. The subset will contain 95% of the dataset."
   ]
  },
  {
   "cell_type": "code",
   "execution_count": 29,
   "id": "983b7827",
   "metadata": {
    "execution": {
     "iopub.execute_input": "2021-06-04T13:14:13.062536Z",
     "iopub.status.busy": "2021-06-04T13:14:13.060268Z",
     "iopub.status.idle": "2021-06-04T13:14:15.312466Z",
     "shell.execute_reply": "2021-06-04T13:14:15.309918Z"
    },
    "papermill": {
     "duration": 2.346866,
     "end_time": "2021-06-04T13:14:15.312727",
     "exception": false,
     "start_time": "2021-06-04T13:14:12.965861",
     "status": "completed"
    },
    "tags": [],
    "vscode": {
     "languageId": "r"
    }
   },
   "outputs": [
    {
     "name": "stdout",
     "output_type": "stream",
     "text": [
      "[1] \"Removed 350103 rows as outliners\"\n"
     ]
    }
   ],
   "source": [
    "cyclistic_without_outliners <- cyclistic %>% \n",
    "    filter(ride_time_m > as.numeric(ventiles['5%'])) %>%\n",
    "    filter(ride_time_m < as.numeric(ventiles['95%']))\n",
    "\n",
    "print(paste(\"Removed\", nrow(cyclistic) - nrow(cyclistic_without_outliners), \"rows as outliners\" ))"
   ]
  },
  {
   "attachments": {},
   "cell_type": "markdown",
   "id": "c07164e2",
   "metadata": {
    "execution": {
     "iopub.execute_input": "2021-06-01T15:49:01.945453Z",
     "iopub.status.busy": "2021-06-01T15:49:01.942574Z",
     "iopub.status.idle": "2021-06-01T15:49:01.960407Z"
    },
    "papermill": {
     "duration": 0.083856,
     "end_time": "2021-06-04T13:14:15.479073",
     "exception": false,
     "start_time": "2021-06-04T13:14:15.395217",
     "status": "completed"
    },
    "tags": []
   },
   "source": [
    "<a id=\"analyze-code-other-ride-multivariable\"></a>\n",
    "##### ride_time_m multivariable exploration\n",
    "\n",
    "One of the first interactions between the columns and ride_length is a box plot, with subplots based on the casual_members column. Also the summarized data."
   ]
  },
  {
   "cell_type": "code",
   "execution_count": 30,
   "id": "fb1c7452",
   "metadata": {
    "execution": {
     "iopub.execute_input": "2021-06-04T13:14:15.665533Z",
     "iopub.status.busy": "2021-06-04T13:14:15.662455Z",
     "iopub.status.idle": "2021-06-04T13:14:17.992157Z",
     "shell.execute_reply": "2021-06-04T13:14:17.990439Z"
    },
    "papermill": {
     "duration": 2.426622,
     "end_time": "2021-06-04T13:14:17.992455",
     "exception": false,
     "start_time": "2021-06-04T13:14:15.565833",
     "status": "completed"
    },
    "tags": [],
    "vscode": {
     "languageId": "r"
    }
   },
   "outputs": [
    {
     "data": {
      "text/html": [
       "<table class=\"dataframe\">\n",
       "<caption>A tibble: 2 × 6</caption>\n",
       "<thead>\n",
       "\t<tr><th scope=col>member_casual</th><th scope=col>mean</th><th scope=col>first_quarter</th><th scope=col>median</th><th scope=col>third_quarter</th><th scope=col>IR</th></tr>\n",
       "\t<tr><th scope=col>&lt;fct&gt;</th><th scope=col>&lt;dbl&gt;</th><th scope=col>&lt;dbl&gt;</th><th scope=col>&lt;dbl&gt;</th><th scope=col>&lt;dbl&gt;</th><th scope=col>&lt;dbl&gt;</th></tr>\n",
       "</thead>\n",
       "<tbody>\n",
       "\t<tr><td>casual</td><td>23.67794</td><td>11.3</td><td>19.16667</td><td>31.36667</td><td>20.06667</td></tr>\n",
       "\t<tr><td>member</td><td>15.48325</td><td> 7.3</td><td>12.18333</td><td>20.66667</td><td>13.36667</td></tr>\n",
       "</tbody>\n",
       "</table>\n"
      ],
      "text/latex": [
       "A tibble: 2 × 6\n",
       "\\begin{tabular}{llllll}\n",
       " member\\_casual & mean & first\\_quarter & median & third\\_quarter & IR\\\\\n",
       " <fct> & <dbl> & <dbl> & <dbl> & <dbl> & <dbl>\\\\\n",
       "\\hline\n",
       "\t casual & 23.67794 & 11.3 & 19.16667 & 31.36667 & 20.06667\\\\\n",
       "\t member & 15.48325 &  7.3 & 12.18333 & 20.66667 & 13.36667\\\\\n",
       "\\end{tabular}\n"
      ],
      "text/markdown": [
       "\n",
       "A tibble: 2 × 6\n",
       "\n",
       "| member_casual &lt;fct&gt; | mean &lt;dbl&gt; | first_quarter &lt;dbl&gt; | median &lt;dbl&gt; | third_quarter &lt;dbl&gt; | IR &lt;dbl&gt; |\n",
       "|---|---|---|---|---|---|\n",
       "| casual | 23.67794 | 11.3 | 19.16667 | 31.36667 | 20.06667 |\n",
       "| member | 15.48325 |  7.3 | 12.18333 | 20.66667 | 13.36667 |\n",
       "\n"
      ],
      "text/plain": [
       "  member_casual mean     first_quarter median   third_quarter IR      \n",
       "1 casual        23.67794 11.3          19.16667 31.36667      20.06667\n",
       "2 member        15.48325  7.3          12.18333 20.66667      13.36667"
      ]
     },
     "metadata": {},
     "output_type": "display_data"
    }
   ],
   "source": [
    "cyclistic_without_outliners %>% \n",
    "    group_by(member_casual) %>% \n",
    "    summarise(mean = mean(ride_time_m),\n",
    "              'first_quarter' = as.numeric(quantile(ride_time_m, .25)),\n",
    "              'median' = median(ride_time_m),\n",
    "              'third_quarter' = as.numeric(quantile(ride_time_m, .75)),\n",
    "              'IR' = third_quarter - first_quarter)"
   ]
  },
  {
   "cell_type": "code",
   "execution_count": 31,
   "id": "27100224",
   "metadata": {
    "execution": {
     "iopub.execute_input": "2021-06-04T13:14:18.165356Z",
     "iopub.status.busy": "2021-06-04T13:14:18.163674Z",
     "iopub.status.idle": "2021-06-04T13:14:35.681623Z",
     "shell.execute_reply": "2021-06-04T13:14:35.679112Z"
    },
    "papermill": {
     "duration": 17.606742,
     "end_time": "2021-06-04T13:14:35.682310",
     "exception": false,
     "start_time": "2021-06-04T13:14:18.075568",
     "status": "completed"
    },
    "tags": [],
    "vscode": {
     "languageId": "r"
    }
   },
   "outputs": [
    {
     "data": {
      "image/png": "[encoded data removed]"
     },
     "metadata": {
      "image/png": {
       "height": 480,
       "width": 960
      }
     },
     "output_type": "display_data"
    }
   ],
   "source": [
    "ggplot(cyclistic_without_outliners, aes(x=member_casual, y=ride_time_m, fill=member_casual)) +\n",
    "    labs(x=\"Member x Casual\", y=\"Riding time\", title=\"Chart 08 - Distribution of Riding time for Casual x Member\") +\n",
    "    geom_boxplot()"
   ]
  },
  {
   "attachments": {},
   "cell_type": "markdown",
   "id": "469aa626",
   "metadata": {
    "papermill": {
     "duration": 0.086691,
     "end_time": "2021-06-04T13:14:35.855724",
     "exception": false,
     "start_time": "2021-06-04T13:14:35.769033",
     "status": "completed"
    },
    "tags": []
   },
   "source": [
    "It's important to note that:\n",
    "* Casual have more riding time thant members.\n",
    "* Mean and IQR is also bigger for casual.\n",
    "\n",
    "Let's see if we can extract more informations when ploting with weekday."
   ]
  },
  {
   "cell_type": "code",
   "execution_count": 32,
   "id": "31369ee6",
   "metadata": {
    "execution": {
     "iopub.execute_input": "2021-06-04T13:14:36.035005Z",
     "iopub.status.busy": "2021-06-04T13:14:36.032309Z",
     "iopub.status.idle": "2021-06-04T13:14:56.213095Z",
     "shell.execute_reply": "2021-06-04T13:14:56.211985Z"
    },
    "papermill": {
     "duration": 20.272801,
     "end_time": "2021-06-04T13:14:56.213386",
     "exception": false,
     "start_time": "2021-06-04T13:14:35.940585",
     "status": "completed"
    },
    "tags": [],
    "vscode": {
     "languageId": "r"
    }
   },
   "outputs": [
    {
     "data": {
      "image/png": "[encoded data removed]"
     },
     "metadata": {
      "image/png": {
       "height": 480,
       "width": 960
      }
     },
     "output_type": "display_data"
    }
   ],
   "source": [
    "ggplot(cyclistic_without_outliners, aes(x=weekday, y=ride_time_m, fill=member_casual)) +\n",
    "    geom_boxplot() +\n",
    "    facet_wrap(~ member_casual) +\n",
    "    labs(x=\"Weekday\", y=\"Riding time\", title=\"Chart 09 - Distribution of Riding time for day of the week\") +\n",
    "    coord_flip()"
   ]
  },
  {
   "attachments": {},
   "cell_type": "markdown",
   "id": "55da9786",
   "metadata": {
    "papermill": {
     "duration": 0.089147,
     "end_time": "2021-06-04T13:14:56.388952",
     "exception": false,
     "start_time": "2021-06-04T13:14:56.299805",
     "status": "completed"
    },
    "tags": []
   },
   "source": [
    "* Riding time for members keeps unchanged during the midweek, increasing during weekends\n",
    "* Casuals follow a more curve distribution, peaking on sundays and valleying on wednesday/thursday.\n",
    "\n",
    "Lastly, let's do rideable_type."
   ]
  },
  {
   "cell_type": "code",
   "execution_count": 33,
   "id": "cc2de12b",
   "metadata": {
    "execution": {
     "iopub.execute_input": "2021-06-04T13:14:56.568613Z",
     "iopub.status.busy": "2021-06-04T13:14:56.566479Z",
     "iopub.status.idle": "2021-06-04T13:15:23.635011Z",
     "shell.execute_reply": "2021-06-04T13:15:23.633792Z"
    },
    "papermill": {
     "duration": 27.161026,
     "end_time": "2021-06-04T13:15:23.635405",
     "exception": false,
     "start_time": "2021-06-04T13:14:56.474379",
     "status": "completed"
    },
    "tags": [],
    "vscode": {
     "languageId": "r"
    }
   },
   "outputs": [
    {
     "data": {
      "image/png": "[encoded data removed]"
     },
     "metadata": {
      "image/png": {
       "height": 480,
       "width": 960
      }
     },
     "output_type": "display_data"
    }
   ],
   "source": [
    "ggplot(cyclistic_without_outliners, aes(x=rideable_type, y=ride_time_m, fill=member_casual)) +\n",
    "    geom_boxplot() +\n",
    "    facet_wrap(~ member_casual) +\n",
    "    labs(x=\"Rideable type\", y=\"Riding time\", title=\"Chart 10 - Distribution of Riding time for rideeable type\") +\n",
    "    coord_flip()"
   ]
  },
  {
   "attachments": {},
   "cell_type": "markdown",
   "id": "7fdf3275",
   "metadata": {
    "papermill": {
     "duration": 0.085412,
     "end_time": "2021-06-04T13:15:23.810881",
     "exception": false,
     "start_time": "2021-06-04T13:15:23.725469",
     "status": "completed"
    },
    "tags": []
   },
   "source": [
    "* Electric bikes have less riding time than other bikes, for both members and casuals.\n",
    "* Docked bikes have more riding time. And for docked bikes, members have more riding time than casuals. "
   ]
  },
  {
   "attachments": {},
   "cell_type": "markdown",
   "id": "89624e3e",
   "metadata": {
    "papermill": {
     "duration": 0.086879,
     "end_time": "2021-06-04T13:15:23.985174",
     "exception": false,
     "start_time": "2021-06-04T13:15:23.898295",
     "status": "completed"
    },
    "tags": []
   },
   "source": [
    "<a id=\"analyze-guiding\"></a>\n",
    "## Guiding questions\n",
    "\n",
    "* **How should you organize your data to perform analysis on it?**\n",
    "\n",
    "The data has been organized into a single CSV concatenating all the files from the dataset.\n",
    "\n",
    "* **Has your data been properly formatted?**\n",
    "\n",
    "Yes, all the columns have their correct data type.\n",
    "\n",
    "* **What surprises did you discover in the data?**\n",
    "\n",
    "One of the main surprises is how members differ from casuals when analysed from weekdays. Also that members have less riding time than casual.\n",
    "\n",
    "* **What trends or relationships did you find in the data?**\n",
    "    * There are more members than casuals in the dataset.\n",
    "    * There are more data points in the last semester of 2020.\n",
    "    * There are more of a difference between the flow of members/casual from midweek to weekends.\n",
    "    * Members use bikes on schedules that differs from casual.\n",
    "    * Members have less riding time.\n",
    "    * Members tend to prefer docked bikes.\n",
    "\n",
    "\n",
    "* **How will these insights help answer your business questions?**\n",
    "\n",
    "This insights helps to build a profile for members."
   ]
  },
  {
   "attachments": {},
   "cell_type": "markdown",
   "id": "70b838bd",
   "metadata": {
    "execution": {
     "iopub.execute_input": "2021-06-03T00:33:48.481028Z",
     "iopub.status.busy": "2021-06-03T00:33:48.478523Z",
     "iopub.status.idle": "2021-06-03T00:33:48.498006Z"
    },
    "papermill": {
     "duration": 0.087456,
     "end_time": "2021-06-04T13:15:24.157548",
     "exception": false,
     "start_time": "2021-06-04T13:15:24.070092",
     "status": "completed"
    },
    "tags": []
   },
   "source": [
    "<a id=\"analyze-key\"></a>\n",
    "## Key tasks\n",
    "\n",
    "- [x] Aggregate your data so it’s useful and accessible.\n",
    "- [x] Organize and format your data.\n",
    "- [x] Perform calculations.\n",
    "- [x] Identify trends and relationships."
   ]
  },
  {
   "attachments": {},
   "cell_type": "markdown",
   "id": "2021b5a2",
   "metadata": {
    "papermill": {
     "duration": 0.091542,
     "end_time": "2021-06-04T13:15:24.338630",
     "exception": false,
     "start_time": "2021-06-04T13:15:24.247088",
     "status": "completed"
    },
    "tags": []
   },
   "source": [
    "<a id=\"analyze-deliverable\"></a>\n",
    "## Deliverable\n",
    "\n",
    "- [x] A summary of your analysis"
   ]
  },
  {
   "attachments": {},
   "cell_type": "markdown",
   "id": "3622a725",
   "metadata": {
    "papermill": {
     "duration": 0.087987,
     "end_time": "2021-06-04T13:15:24.520295",
     "exception": false,
     "start_time": "2021-06-04T13:15:24.432308",
     "status": "completed"
    },
    "tags": []
   },
   "source": [
    "<a id=\"share\"></a>\n",
    "# Share\n",
    "\n",
    "The share phase is usually done by building a presentation. But for kaggle, the best representation of the analysis and conclusions is it's own notebook.\n",
    "\n",
    "Let's go through the main finds and try to arrive at a conclusion.\n",
    "\n",
    "\n",
    "What we know about the dataset:\n",
    "* Members have the biggest proportion of the dataset, ~19% bigger thand casuals.\n",
    "* There's more data points at the last semester of 2020.\n",
    "* The month with the biggest count of data points was August with ~18% of the dataset.\n",
    "* In all months we have more members' rides than casual rides.\n",
    "* The difference of proporcion of member x casual is smaller in the last semester of 2020.\n",
    "* Temperature heavily influences the volume of rides in the month.\n",
    "* The biggest volume of data is on the the weekend.\n",
    "* There's a bigger volume of bikers in the afternoon.\n",
    "\n",
    "It's possible to notice that the distribution of rides by month is cyclical through years, as seen on chart 02 and it's influenced by the temperature. The remaining question is: Why are there more members than casual? One plausible answer is that members have a bigger need for the bikes than casuals, as can be seen on how there are more members than casuals on cold months.\n",
    "\n",
    "Besides that, we have more bike rides on the weekends. Maybe because on those days the bikes were utilized for more recreational ways. This even more plausible when knowing that *There's a bigger volume of bikers in the afternoon*.\n",
    "\n",
    "Now for how members differs from casuals:\n",
    "* Members may have the biggest volume of data, besides on saturday. On this weekday, casuals take place as having the most data points.\n",
    "* Weekends have the biggest volume of casuals, starting on friday, a ~20% increase.\n",
    "* We have more members during the morning, mainly between 5am and 11am. And more casuals between 11pm and 4am.\n",
    "* There's a big increase of data points in the midweek between 6am to 8am for members. Then it fell a bit. Another big increase is from 5pm to 6pm.\n",
    "* During the weekend we have a bigger flow of casuals between 11am to 6pm.\n",
    "* Members have a bigger preference for classic bikes, 56% more.\n",
    "* Casuals have more riding time than members.\n",
    "* Riding time for members keeps unchanged during the midweek, increasing during weekends.\n",
    "* Casuals follow a more curve distribution, peaking on sundays and valleying on wednesday/thursday.\n",
    "\n",
    "What we can take from this information is that members have a more fixed use for bikes besides casuals. Their uses is for more routine activities, like:\n",
    "* Go to work.\n",
    "* Use it as an exercise.\n",
    "\n",
    "This can be proven we state that *we have more members in between 6am to 8am and at 5pm to 6pm*. Also, members may have set routes when using the bikes, as proven by *riding time for members keeps unchanged during the midweek, increasing during weekends*. The bikes is also \n",
    "heavily used for recreation on the weekends, when riding time increases and casuals take place. \n",
    "\n",
    "Members also have a bigger preference for classic bikes, so they can exercise when going to work.\n",
    "\n",
    "Concluding:\n",
    "* Members use the bikes for fixed activities, one of those is going to work.\n",
    "* Bikes are used for recreation on the weekends.\n",
    "* Rides are influenced by temperature.\n"
   ]
  },
  {
   "attachments": {},
   "cell_type": "markdown",
   "id": "6ed4553a",
   "metadata": {
    "papermill": {
     "duration": 0.084907,
     "end_time": "2021-06-04T13:15:24.694645",
     "exception": false,
     "start_time": "2021-06-04T13:15:24.609738",
     "status": "completed"
    },
    "tags": []
   },
   "source": [
    "<a id=\"share-guiding\"></a>\n",
    "## Guiding questions\n",
    "\n",
    "* **Were you able to answer the question of how annual members and casual riders use Cyclistic bikes differently?**\n",
    "\n",
    "Yes. The data points to several differences between casuals and members.\n",
    "\n",
    "* **What story does your data tell?**\n",
    "\n",
    "The main story the data tells is that members have set schedules, as seen on chart 06 on key timestamps. Those timestamps point out that members use the bikes for routine activities, like going to work. Charts like 08 also point out that they have less riding time, because they have a set route to take.\n",
    "\n",
    "* **How do your findings relate to your original question?**\n",
    "\n",
    "The findings build a profile for members, relating to \"*Find the keys differences between casuals and annual riders*\", also knowing whey they use the bikes helps to find \"*How digital media could influence them*\".\n",
    "\n",
    "* **Who is your audience? What is the best way to communicate with them?**\n",
    "\n",
    "The main target audience is my cyclistic marketing analytics team and Lily Moreno. The best way to communicate is through a slide presentation of the findings.\n",
    "\n",
    "* **Can data visualization help you share your findings?**\n",
    "\n",
    "Yes, the main core of the finds is through data visualization.\n",
    "\n",
    "* **Is your presentation accessible to your audience?**\n",
    "\n",
    "Yes, the plots were made using vibrant colors, and corresponding labels."
   ]
  },
  {
   "attachments": {},
   "cell_type": "markdown",
   "id": "cd5d40f9",
   "metadata": {
    "execution": {
     "iopub.execute_input": "2021-06-03T00:54:29.86861Z",
     "iopub.status.busy": "2021-06-03T00:54:29.866276Z",
     "iopub.status.idle": "2021-06-03T00:54:29.916599Z"
    },
    "papermill": {
     "duration": 0.084631,
     "end_time": "2021-06-04T13:15:24.863804",
     "exception": false,
     "start_time": "2021-06-04T13:15:24.779173",
     "status": "completed"
    },
    "tags": []
   },
   "source": [
    "<a id=\"share-key\"></a>\n",
    "## Key tasks\n",
    "\n",
    "- [x] Determine the best way to share your findings.\n",
    "- [x] Create effective data visualizations.\n",
    "- [x] Present your findings.\n",
    "- [x] Ensure your work is accessible."
   ]
  },
  {
   "attachments": {},
   "cell_type": "markdown",
   "id": "ddf8b578",
   "metadata": {
    "papermill": {
     "duration": 0.087171,
     "end_time": "2021-06-04T13:15:25.037367",
     "exception": false,
     "start_time": "2021-06-04T13:15:24.950196",
     "status": "completed"
    },
    "tags": []
   },
   "source": [
    "<a id=\"share-deliverable\"></a>\n",
    "## Deliverable\n",
    "\n",
    "- [x] Supporting visualizations and key findings"
   ]
  },
  {
   "attachments": {},
   "cell_type": "markdown",
   "id": "57e09ca8",
   "metadata": {
    "execution": {
     "iopub.execute_input": "2021-06-03T02:09:14.765232Z",
     "iopub.status.busy": "2021-06-03T02:09:14.763399Z",
     "iopub.status.idle": "2021-06-03T02:09:14.777361Z"
    },
    "papermill": {
     "duration": 0.085701,
     "end_time": "2021-06-04T13:15:25.212438",
     "exception": false,
     "start_time": "2021-06-04T13:15:25.126737",
     "status": "completed"
    },
    "tags": []
   },
   "source": [
    "<a id=\"act\"></a>\n",
    "# Act\n",
    "\n",
    "The act phase would be done by the marketing team of the company. The main takeaway will be the top three recommendations for the marketing."
   ]
  },
  {
   "attachments": {},
   "cell_type": "markdown",
   "id": "0ec05dc3",
   "metadata": {
    "papermill": {
     "duration": 0.091254,
     "end_time": "2021-06-04T13:15:25.390359",
     "exception": false,
     "start_time": "2021-06-04T13:15:25.299105",
     "status": "completed"
    },
    "tags": []
   },
   "source": [
    "<a id=\"act-guiding\"></a>\n",
    "## Guiding questions\n",
    "\n",
    "* **What is your final conclusion based on your analysis?**\n",
    "\n",
    "Members and casual have different habits when using the bikes. The conclusion is further stated on the share phase.\n",
    "\n",
    "* **How could your team and business apply your insights?**\n",
    "\n",
    "The insights could be implemented when preparing a marketing campaign for turning casual into members. The marketing can have a focus on workers as a green way to get to work.\n",
    "\n",
    "* **What next steps would you or your stakeholders take based on your findings?**\n",
    "\n",
    "Further analysis could be done to improve the findings, besides that, the marketing team can take the main information to build a marketing campaign.\n",
    "\n",
    "* **Is there additional data you could use to expand on your findings?**\n",
    "    * Mobility data.\n",
    "    * Improved climate data.\n",
    "    * More information members."
   ]
  },
  {
   "attachments": {},
   "cell_type": "markdown",
   "id": "d204b1d5",
   "metadata": {
    "execution": {
     "iopub.execute_input": "2021-06-03T02:17:44.321962Z",
     "iopub.status.busy": "2021-06-03T02:17:44.320263Z",
     "iopub.status.idle": "2021-06-03T02:17:44.3364Z"
    },
    "papermill": {
     "duration": 0.083953,
     "end_time": "2021-06-04T13:15:25.560378",
     "exception": false,
     "start_time": "2021-06-04T13:15:25.476425",
     "status": "completed"
    },
    "tags": []
   },
   "source": [
    "<a id=\"act-key\"></a>\n",
    "## Key tasks\n",
    "\n",
    "- [x] Create your portfolio.\n",
    "- [x] Add your case study.\n",
    "- [x] Practice presenting your case study to a friend or family member."
   ]
  },
  {
   "attachments": {},
   "cell_type": "markdown",
   "id": "10352315",
   "metadata": {
    "papermill": {
     "duration": 0.086939,
     "end_time": "2021-06-04T13:15:25.731108",
     "exception": false,
     "start_time": "2021-06-04T13:15:25.644169",
     "status": "completed"
    },
    "tags": []
   },
   "source": [
    "<a id=\"act-deliverable\"></a>\n",
    "## Deliverable\n",
    "\n",
    "* Your top three recommendations based on your analysis\n",
    "1. Build a marketing campaign focusing on show how bikes help people to get to work, while maintaining the planet green and avoid traffic. The ads could be show on  professional social networks.\n",
    "2. Increase benefits for riding during cold months. Coupons and discounts could be handed out.\n",
    "3. As the bikes are also used for recreations on the weekends, ads campaigns could also be made showing people using the bikes for exercise during the weeks. The ads could focus on how practical and **consistent** the bikes can be."
   ]
  },
  {
   "cell_type": "code",
   "execution_count": null,
   "id": "ee3cc268",
   "metadata": {
    "papermill": {
     "duration": 0.08586,
     "end_time": "2021-06-04T13:15:26.070411",
     "exception": false,
     "start_time": "2021-06-04T13:15:25.984551",
     "status": "completed"
    },
    "tags": [],
    "vscode": {
     "languageId": "r"
    }
   },
   "outputs": [],
   "source": []
  }
 ],
 "metadata": {
  "kernelspec": {
   "display_name": "R",
   "language": "R",
   "name": "ir"
  },
  "language_info": {
   "codemirror_mode": "r",
   "file_extension": ".r",
   "mimetype": "text/x-r-source",
   "name": "R",
   "pygments_lexer": "r",
   "version": "3.6.3"
  },
  "papermill": {
   "default_parameters": {},
   "duration": 659.61824,
   "end_time": "2021-06-04T13:15:27.372207",
   "environment_variables": {},
   "exception": null,
   "input_path": "__notebook__.ipynb",
   "output_path": "__notebook__.ipynb",
   "parameters": {},
   "start_time": "2021-06-04T13:04:27.753967",
   "version": "2.3.3"
  }
 },
 "nbformat": 4,
 "nbformat_minor": 5
}
